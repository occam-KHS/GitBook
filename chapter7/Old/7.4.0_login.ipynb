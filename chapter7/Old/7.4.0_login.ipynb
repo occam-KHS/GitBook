{
 "cells": [
  {
   "cell_type": "markdown",
   "id": "36123783",
   "metadata": {},
   "source": [
    "## 자동 로그인"
   ]
  },
  {
   "cell_type": "markdown",
   "id": "d3682ca5-cc7c-447c-9d4f-e99ea46219e6",
   "metadata": {},
   "source": [
    "xingAPI 를 사용하면 자동으로 서버연결 및 로그인을 수행 할 수 있습니다. 다음과 같은 순서로 코드를 살펴 보겠습니다. \n",
    "<ol>\n",
    "  <li>변수를 관리하는 MyObjects 클래스</li>\n",
    "  <li>데이터를 요청하는 Main 클래스</li>\n",
    "  <li>로그인 결과를 수신하는 XS_event_handler 클래스</li>\n",
    "</ol>"
   ]
  },
  {
   "cell_type": "markdown",
   "id": "4cb62f16-995f-4c7c-9dea-9fc24a85a266",
   "metadata": {},
   "source": [
    "MyObjects 클래스에서 추가된 변수는 2개 입니다.\n",
    "\n",
    "| 추가변수 | 정의 |\n",
    "| :----- | :----- |\n",
    "| server | 실투자 혹은 모의투자 서버 선택 변수 |\n",
    "| login_ok | 로그인 상태를 나타내는 불 타입 변수 |"
   ]
  },
  {
   "cell_type": "code",
   "execution_count": null,
   "id": "4cb18a57-bee3-4e73-852c-35b54d690a8d",
   "metadata": {},
   "outputs": [],
   "source": [
    "# 1. MyObjects: 변수관리 클래스 \n",
    "\n",
    "class MyObjects:\n",
    "    server = \"demo\" #< hts:실투자, demo: 모의투자\n",
    "    login_ok = False #< login 여부를 확인하는 불 타입 변수\n"
   ]
  },
  {
   "cell_type": "markdown",
   "id": "9a110d30-7b01-48df-bff4-6eb4ef688623",
   "metadata": {},
   "source": [
    "Main 클래스에서는 로그인 결과를 수신 할 XS_event_handler 클래스를 등록하고, 서버 연결을 시도하는 ConnectServer() 함수를 호출 합니다. ConnectServer() 함수는 MyObjects 클래스에서 선언한 \"server\" 변수로 서버 타입을 정합니다. 서버 연결 후, Login() 함수를 호출하여 로그인을 시도합니다. 로그인이 완료될 때까지 while 루프로 대기 하는데, MyObjects 클래스에서 선언한 \"login_ok\" 변수 값을 기준으로 삼습니다."
   ]
  },
  {
   "cell_type": "code",
   "execution_count": null,
   "id": "655fc07c",
   "metadata": {},
   "outputs": [],
   "source": [
    "# 2. Main: 데이터 요청 클래스\n",
    "\n",
    "class Main:\n",
    "    def __init__(self):\n",
    "        print(\"자동 로그인을 시도합니다\")\n",
    "\n",
    "        session = win32com.client.DispatchWithEvents(\"XA_Session.XASession\", XS_event_handler) #<\n",
    "        session.ConnectServer(MyObjects.server + \".ebestsec.co.kr\", 20001) # 서버 연결\n",
    "        session.Login(아이디, 비밀번호, 공인인증, 0, False) # 로그인 정보 입력\n",
    "\n",
    "        while MyObjects.login_ok is False: # 로그인 결과를 기다리는 루프\n",
    "            pythoncom.PumpWaitingMessages() "
   ]
  },
  {
   "cell_type": "markdown",
   "id": "465d37b3",
   "metadata": {},
   "source": [
    "모의투자 서버에서 API 사용법을 익히기 위해 MyObjects.server 변수의 값은 'demo' 로 저장했으나, 실투자 서버 사용을 원할 경우엔 'hts' 로 변수 값을 저장하면 됩니다. 한편, 로그인 결과를 알기위해 MyObjects.login_ok 변수의 기본 값은 'False'로 저장하였고, 로그인 결과 메시지를 XS_event_handler 로 받으면 'True' 로 변경하여 위 코드의 while 문을 빠져 나옵니다."
   ]
  },
  {
   "cell_type": "markdown",
   "id": "c4d3ae35",
   "metadata": {},
   "source": [
    "다음은 로그인 결과 메시지를 받기 위한 XS_event_handler 클래스 입니다. 로그인에 성공하면 증권서버는 szCode 변수에 \"0000\" 값을 반환합니다. 로그인에 성공하였으므로 MyObjects.login_ok 의 값을 'True' 로 변환 합니다. 반면, 로그인이 실패 시, 'False' 값을 유지 합니다."
   ]
  },
  {
   "cell_type": "code",
   "execution_count": null,
   "id": "f8e42e87",
   "metadata": {},
   "outputs": [],
   "source": [
    "# 3. XS_event_handler: 로그인 결과 수신 클래스\n",
    "\n",
    "class XS_event_handler:\n",
    "\n",
    "    def OnLogin(self, szCode, szMsg):\n",
    "        print(\"%s %s\" % (szCode, szMsg), flush=True)\n",
    "        if szCode == \"0000\": # 로그인 성공\n",
    "            MyObjects.login_ok = True\n",
    "        else: # 로그인 실패\n",
    "            MyObjects.login_ok = False"
   ]
  },
  {
   "cell_type": "markdown",
   "id": "0e1af16d",
   "metadata": {},
   "source": [
    "모의투자 서버 접속 시, 공동인증은 필요 없습니다. 아래 전체 코드를 실행 시키고 로그인 결과를 확인 합니다. "
   ]
  },
  {
   "cell_type": "code",
   "execution_count": 1,
   "id": "4c26a77d",
   "metadata": {},
   "outputs": [
    {
     "name": "stdout",
     "output_type": "stream",
     "text": [
      "자동 로그인을 시도합니다\n",
      "0000 로그인 성공\n"
     ]
    }
   ],
   "source": [
    "import win32com.client #<\n",
    "import pythoncom #<\n",
    "\n",
    "'''\n",
    "로그인 하기\n",
    "'''\n",
    "\n",
    "# 앞으로 사용하게 될 변수들을 모아 놓는다.\n",
    "class MyObjects:\n",
    "    server = \"demo\" #< hts:실투자, demo: 모의투자\n",
    "    login_ok = False #<\n",
    "\n",
    "\n",
    "# 서버접속 및 로그인 요청 이후 수신결과 데이터를 다루는 구간\n",
    "class XS_event_handler:\n",
    "\n",
    "    def OnLogin(self, szCode, szMsg): \n",
    "        print(\"%s %s\" % (szCode, szMsg), flush=True) \n",
    "        if szCode == \"0000\": \n",
    "            MyObjects.login_ok = True \n",
    "        else: \n",
    "            MyObjects.login_ok = False \n",
    "\n",
    "# 실행용 클래스\n",
    "class Main:\n",
    "    def __init__(self):\n",
    "        print(\"자동 로그인을 시도합니다\")\n",
    "\n",
    "        session = win32com.client.DispatchWithEvents(\"XA_Session.XASession\", XS_event_handler) #<\n",
    "        session.ConnectServer(MyObjects.server + \".ebestsec.co.kr\", 20001) #< 서버 연결\n",
    "        session.Login(아이디, 비밀번호, '', 0, False) #< 서버 연결\n",
    "\n",
    "        while MyObjects.login_ok is False: #<\n",
    "            pythoncom.PumpWaitingMessages() #<\n",
    "\n",
    "if __name__ == \"__main__\":\n",
    "    Main()\n"
   ]
  }
 ],
 "metadata": {
  "kernelspec": {
   "display_name": "Python 3 (ipykernel)",
   "language": "python",
   "name": "python3"
  },
  "language_info": {
   "codemirror_mode": {
    "name": "ipython",
    "version": 3
   },
   "file_extension": ".py",
   "mimetype": "text/x-python",
   "name": "python",
   "nbconvert_exporter": "python",
   "pygments_lexer": "ipython3",
   "version": "3.9.7"
  }
 },
 "nbformat": 4,
 "nbformat_minor": 5
}
