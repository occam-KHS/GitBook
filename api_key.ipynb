{
 "cells": [
  {
   "cell_type": "code",
   "execution_count": 1,
   "id": "d97670f4-dda0-4f0d-b1af-896fad76cd44",
   "metadata": {},
   "outputs": [],
   "source": [
    "import keyring"
   ]
  },
  {
   "cell_type": "code",
   "execution_count": 2,
   "id": "af45aa5f-d3ef-4792-8a35-9aa6c1ac7355",
   "metadata": {},
   "outputs": [],
   "source": [
    "keyring.set_password('real_app_key','occam123','PS4JCzNypY0tab3OA4ibiUub5ajCcAT2E7Uu')\n",
    "keyring.set_password('real_app_secret','occam123','T6jn0eBkoV+/y+1qgm9XUiCZ3Gkq0NNX7kjHnKFCTJxeiavmR+0VQUQBP+lSFRhuNQyBBTFd/YFpDmjAjPhYbflcrDpm90KX03KbyIiwfTqPuWoy/Rv6oXfWeLrU/NU4OU2xB2w7Q1SSBY/DUQhNlShlDxyFypqJfYTjuW/5OitLlG0osYE=')"
   ]
  },
  {
   "cell_type": "code",
   "execution_count": 3,
   "id": "18ceb149-8e7a-49d0-bd38-b05be5ee2316",
   "metadata": {},
   "outputs": [],
   "source": [
    "keyring.set_password('mock_app_key','occam123','PSEhFrkjaWhtKkQI9cjHmJGmPyg2MhG2HNIo')\n",
    "keyring.set_password('mock_app_secret','occam123','awmouEMNGnniIRHDhtgBtDopV4E2t6kNVHBNv1TyNIbvYNmk/kTGmT9zBcCLk+QQXOPhozttouajsjYGGOJDbBhGB+S9ESLaqeQ5i1hAoBYTkHx2wtGD4SAE9EEkZ5Alcvl1ScFf7UdvWeVese81uMA+2/jYC7oxENu85tdgk8wxqmadOHo=')"
   ]
  },
  {
   "cell_type": "code",
   "execution_count": 4,
   "id": "6ec564cb-4fc8-4734-b6a6-79117c57969f",
   "metadata": {},
   "outputs": [
    {
     "data": {
      "text/plain": [
       "'PSEhFrkjaWhtKkQI9cjHmJGmPyg2MhG2HNIo'"
      ]
     },
     "execution_count": 4,
     "metadata": {},
     "output_type": "execute_result"
    }
   ],
   "source": [
    "keyring.get_password('mock_app_key','occam123')"
   ]
  },
  {
   "cell_type": "code",
   "execution_count": 14,
   "id": "326593d6-249b-493c-b0ac-99d25540e90a",
   "metadata": {},
   "outputs": [],
   "source": [
    "DISCORD_WEBHOOK_URL = keyring.get_password('discord_webhook','occam123')"
   ]
  },
  {
   "cell_type": "code",
   "execution_count": 15,
   "id": "56031de0-5503-4260-903c-a0925e9e363d",
   "metadata": {},
   "outputs": [],
   "source": [
    "keyring.set_password('discord_webhook','occam123','https://discord.com/api/webhooks/1020800210001199187/X2Deqar0nI_mu0EVLxiKiCQGGQB7fmQh-a6H_46GRhdxChKtnzk1VUoBVgUTdyLIyPIh')\n",
    "import datetime\n",
    "import requests\n",
    "def send_message(msg):\n",
    "    \"\"\"디스코드 메세지 전송\"\"\"\n",
    "    now = datetime.datetime.now()\n",
    "    message = {\"content\": f\"[{now.strftime('%Y-%m-%d %H:%M:%S')}] {str(msg)}\"}\n",
    "    requests.post(DISCORD_WEBHOOK_URL, data=message)\n",
    "    print(message)"
   ]
  },
  {
   "cell_type": "code",
   "execution_count": 16,
   "id": "43201653-043f-4f99-9cf2-573f4f2829df",
   "metadata": {},
   "outputs": [
    {
     "name": "stdout",
     "output_type": "stream",
     "text": [
      "{'content': '[2022-09-18 06:03:13] Hello'}\n"
     ]
    }
   ],
   "source": [
    "send_message('Hello')"
   ]
  },
  {
   "cell_type": "code",
   "execution_count": 32,
   "id": "821c793a-0229-44b0-a9ee-053edef49d4c",
   "metadata": {},
   "outputs": [],
   "source": [
    "import json\n",
    "APP_KEY = keyring.get_password('real_app_key','occam123')\n",
    "APP_SECRET =  keyring.get_password('real_app_secret','occam123')"
   ]
  },
  {
   "cell_type": "code",
   "execution_count": 25,
   "id": "35a94162-a23a-45d3-9934-b6f1564975a6",
   "metadata": {},
   "outputs": [],
   "source": [
    "def hashkey(datas):\n",
    "    \"\"\"암호화\"\"\"\n",
    "    PATH = \"uapi/hashkey\"\n",
    "    URL = f\"{URL_BASE}/{PATH}\"\n",
    "    headers = {\n",
    "    'content-Type' : 'application/json',\n",
    "    'appKey' : APP_KEY,\n",
    "    'appSecret' : APP_SECRET,\n",
    "    }\n",
    "    res = requests.post(URL, headers=headers, data=json.dumps(datas))\n",
    "    hashkey = res.json()[\"HASH\"]\n",
    "    return hashkey"
   ]
  },
  {
   "cell_type": "code",
   "execution_count": 26,
   "id": "ac1e9a35-4434-4b4d-95b4-e157c76c9409",
   "metadata": {},
   "outputs": [],
   "source": [
    "def get_access_token():\n",
    "    \"\"\"토큰 발급\"\"\"\n",
    "    headers = {\"content-type\":\"application/json\"}\n",
    "    body = {\"grant_type\":\"client_credentials\",\n",
    "    \"appkey\":APP_KEY,\n",
    "    \"appsecret\":APP_SECRET}\n",
    "    PATH = \"oauth2/tokenP\"\n",
    "    URL = f\"{URL_BASE}/{PATH}\"\n",
    "    res = requests.post(URL, headers=headers, data=json.dumps(body))\n",
    "    ACCESS_TOKEN = res.json()[\"access_token\"]\n",
    "    return ACCESS_TOKEN"
   ]
  },
  {
   "cell_type": "code",
   "execution_count": 30,
   "id": "c6fe2a0d-87d6-45e8-8198-cc3c08b60015",
   "metadata": {},
   "outputs": [
    {
     "name": "stdout",
     "output_type": "stream",
     "text": [
      "56200\n"
     ]
    }
   ],
   "source": [
    "ACCESS_TOKEN = get_access_token()\n",
    "\n",
    "\"\"\"주식 종목 현재가 조회\"\"\"\n",
    "\n",
    "# 다음 장에서 더 자세히 설명 드립니다. \n",
    "# requests.get() 함수의 구성 요소를 집중적으로 봐주세요 (e.g. URL, headers, params)\n",
    "\n",
    "URL_BASE = \"https://openapi.koreainvestment.com:9443\" # 실전 투자\n",
    "PATH = \"uapi/domestic-stock/v1/quotations/inquire-price\" # 현재가 조회를 위한 URL 경로\n",
    "URL = f\"{URL_BASE}/{PATH}\"\n",
    "code = \"005930\" # 삼성전자 종목 코드\n",
    "\n",
    "headers = {\n",
    "    \"Content-Type\":\"application/json\",\n",
    "    \"authorization\": f\"Bearer {ACCESS_TOKEN}\", # 보안인증키\n",
    "    \"appKey\":APP_KEY, # API 신청으로 발금 받은 Key\n",
    "    \"appSecret\":APP_SECRET, # API 신청으로 발금 받은 Secret\n",
    "    \"tr_id\":\"FHKST01010100\" # 현재가 조회를 위한 id\n",
    "}\n",
    "params = {\n",
    "    \"fid_cond_mrkt_div_code\":\"J\", # J: 주식\n",
    "    \"fid_input_iscd\":code, # 조회 하고 싶은 주식 종목의 코드 ex) 삼성전자: 005930\n",
    "}\n",
    "\n",
    "res = requests.get(URL, headers=headers, params=params) # <<<<<<<<<\n",
    "\n",
    "print(int(res.json()['output']['stck_prpr']))"
   ]
  },
  {
   "cell_type": "code",
   "execution_count": 31,
   "id": "402ba535-cd04-45f7-a677-d2a58ca5ef03",
   "metadata": {},
   "outputs": [
    {
     "data": {
      "text/plain": [
       "{'iscd_stat_cls_code': '55',\n",
       " 'marg_rate': '20.00',\n",
       " 'rprs_mrkt_kor_name': 'KOSPI200',\n",
       " 'new_hgpr_lwpr_cls_code': '신저가',\n",
       " 'bstp_kor_isnm': '전기.전자',\n",
       " 'temp_stop_yn': 'N',\n",
       " 'oprc_rang_cont_yn': 'N',\n",
       " 'clpr_rang_cont_yn': 'N',\n",
       " 'crdt_able_yn': 'Y',\n",
       " 'grmn_rate_cls_code': '40',\n",
       " 'elw_pblc_yn': 'Y',\n",
       " 'stck_prpr': '56200',\n",
       " 'prdy_vrss': '200',\n",
       " 'prdy_vrss_sign': '2',\n",
       " 'prdy_ctrt': '0.36',\n",
       " 'acml_tr_pbmn': '752455682838',\n",
       " 'acml_vol': '13456503',\n",
       " 'prdy_vrss_vol_rate': '115.36',\n",
       " 'stck_oprc': '55600',\n",
       " 'stck_hgpr': '56400',\n",
       " 'stck_lwpr': '55500',\n",
       " 'stck_mxpr': '72800',\n",
       " 'stck_llam': '39200',\n",
       " 'stck_sdpr': '56000',\n",
       " 'wghn_avrg_stck_prc': '55910.57',\n",
       " 'hts_frgn_ehrt': '49.49',\n",
       " 'frgn_ntby_qty': '-593727',\n",
       " 'pgtr_ntby_qty': '-1319169',\n",
       " 'pvt_scnd_dmrs_prc': '57466',\n",
       " 'pvt_frst_dmrs_prc': '56732',\n",
       " 'pvt_pont_val': '56366',\n",
       " 'pvt_frst_dmsp_prc': '55632',\n",
       " 'pvt_scnd_dmsp_prc': '55266',\n",
       " 'dmrs_val': '56550',\n",
       " 'dmsp_val': '55450',\n",
       " 'cpfn': '7780',\n",
       " 'rstc_wdth_prc': '16800',\n",
       " 'stck_fcam': '100',\n",
       " 'stck_sspr': '44800',\n",
       " 'aspr_unit': '100',\n",
       " 'hts_deal_qty_unit_val': '1',\n",
       " 'lstn_stcn': '5969782550',\n",
       " 'hts_avls': '3355018',\n",
       " 'per': '9.73',\n",
       " 'pbr': '1.29',\n",
       " 'stac_month': '12',\n",
       " 'vol_tnrt': '0.23',\n",
       " 'eps': '5777.00',\n",
       " 'bps': '43611.00',\n",
       " 'd250_hgpr': '80800',\n",
       " 'd250_hgpr_date': '20211224',\n",
       " 'd250_hgpr_vrss_prpr_rate': '-30.45',\n",
       " 'd250_lwpr': '55500',\n",
       " 'd250_lwpr_date': '20220916',\n",
       " 'd250_lwpr_vrss_prpr_rate': '1.26',\n",
       " 'stck_dryy_hgpr': '79800',\n",
       " 'dryy_hgpr_vrss_prpr_rate': '-29.57',\n",
       " 'dryy_hgpr_date': '20220103',\n",
       " 'stck_dryy_lwpr': '55500',\n",
       " 'dryy_lwpr_vrss_prpr_rate': '1.26',\n",
       " 'dryy_lwpr_date': '20220916',\n",
       " 'w52_hgpr': '80800',\n",
       " 'w52_hgpr_vrss_prpr_ctrt': '-30.45',\n",
       " 'w52_hgpr_date': '20211224',\n",
       " 'w52_lwpr': '55500',\n",
       " 'w52_lwpr_vrss_prpr_ctrt': '1.26',\n",
       " 'w52_lwpr_date': '20220916',\n",
       " 'whol_loan_rmnd_rate': '0.16',\n",
       " 'ssts_yn': 'Y',\n",
       " 'stck_shrn_iscd': '005930',\n",
       " 'fcam_cnnm': '100',\n",
       " 'cpfn_cnnm': '7,780 억',\n",
       " 'frgn_hldn_qty': '2954444957',\n",
       " 'vi_cls_code': 'N',\n",
       " 'ovtm_vi_cls_code': 'N',\n",
       " 'last_ssts_cntg_qty': '385862',\n",
       " 'invt_caful_yn': 'N',\n",
       " 'mrkt_warn_cls_code': '00',\n",
       " 'short_over_yn': 'N',\n",
       " 'sltr_yn': 'N'}"
      ]
     },
     "execution_count": 31,
     "metadata": {},
     "output_type": "execute_result"
    }
   ],
   "source": [
    "res.json()['output']"
   ]
  },
  {
   "cell_type": "code",
   "execution_count": null,
   "id": "af51a6bf-df69-47d7-94c7-14054532abb4",
   "metadata": {},
   "outputs": [],
   "source": []
  }
 ],
 "metadata": {
  "kernelspec": {
   "display_name": "Python 3 (ipykernel)",
   "language": "python",
   "name": "python3"
  },
  "language_info": {
   "codemirror_mode": {
    "name": "ipython",
    "version": 3
   },
   "file_extension": ".py",
   "mimetype": "text/x-python",
   "name": "python",
   "nbconvert_exporter": "python",
   "pygments_lexer": "ipython3",
   "version": "3.9.7"
  }
 },
 "nbformat": 4,
 "nbformat_minor": 5
}
