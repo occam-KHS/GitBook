{
 "cells": [
  {
   "cell_type": "markdown",
   "id": "92c217b1-5633-4c1c-926c-7ea85e310f37",
   "metadata": {},
   "source": [
    "### **종목 추천과 자동매매를 하나로**"
   ]
  },
  {
   "cell_type": "markdown",
   "id": "340670db-b792-4be0-840a-d8dda95a8d9c",
   "metadata": {},
   "source": [
    "6 장에서 완성된 종목 추천 알고리즘과 7 장에서 완성된 자동매매 코드를 하나의 파이썬 패키지로 만들어서 아침 9시 00분 자동으로 종목을 추천받고, 자동매매가 시작될 수 있도록 프로그램을 만들어 보겠습니다. 윈도우즈 스케줄러을 이용하여 파이썬 파일이 정해진 시간에 자동 실행될 수 있도록 합니다. 우선 아래와 같이 주피터 노트북 상에서 파이썬 파일을 만들어 봅니다."
   ]
  },
  {
   "cell_type": "markdown",
   "id": "41ece79b-4f92-472c-b793-bc9a13372635",
   "metadata": {},
   "source": [
    "![GET_IMAGE](images/Python_File.PNG)"
   ]
  },
  {
   "cell_type": "code",
   "execution_count": null,
   "id": "3da944d0-3f12-4a4b-86db-0d1c7000710a",
   "metadata": {},
   "outputs": [],
   "source": []
  }
 ],
 "metadata": {
  "kernelspec": {
   "display_name": "Python 3 (ipykernel)",
   "language": "python",
   "name": "python3"
  },
  "language_info": {
   "codemirror_mode": {
    "name": "ipython",
    "version": 3
   },
   "file_extension": ".py",
   "mimetype": "text/x-python",
   "name": "python",
   "nbconvert_exporter": "python",
   "pygments_lexer": "ipython3",
   "version": "3.9.7"
  }
 },
 "nbformat": 4,
 "nbformat_minor": 5
}
