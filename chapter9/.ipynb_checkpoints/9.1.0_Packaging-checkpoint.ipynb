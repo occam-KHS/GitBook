{
 "cells": [
  {
   "cell_type": "markdown",
   "id": "1ea37a5e-269f-4f5c-be7e-eff18b561246",
   "metadata": {},
   "source": [
    "### 종목 추천 및 자동매매 패키징\n",
    "\n",
    "'selection.py' 와 'trading.py' 파이썬 파일을 생성하고 두 모듈을 import 합니다. 아래와 같이 'main.py' 에 최근 영업일 입력한 후, 프로그램을 실행시킵니다. 프로그램이 추천종목을 받아, 자동매매를 시작하는 지 우선적으로 테스트 해 봅니다."
   ]
  },
  {
   "cell_type": "markdown",
   "id": "5000f8f2-739c-4e9a-b79d-71ba4eab0825",
   "metadata": {},
   "source": [
    "![GET_IMAGE](images/main_py.PNG)"
   ]
  },
  {
   "cell_type": "code",
   "execution_count": null,
   "id": "b3a80049-31a6-4daf-8c60-b9cf995c5f53",
   "metadata": {},
   "outputs": [],
   "source": []
  }
 ],
 "metadata": {
  "kernelspec": {
   "display_name": "Python 3 (ipykernel)",
   "language": "python",
   "name": "python3"
  },
  "language_info": {
   "codemirror_mode": {
    "name": "ipython",
    "version": 3
   },
   "file_extension": ".py",
   "mimetype": "text/x-python",
   "name": "python",
   "nbconvert_exporter": "python",
   "pygments_lexer": "ipython3",
   "version": "3.9.7"
  }
 },
 "nbformat": 4,
 "nbformat_minor": 5
}
