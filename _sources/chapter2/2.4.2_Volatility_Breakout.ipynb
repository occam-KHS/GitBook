{
 "cells": [
  {
   "cell_type": "markdown",
   "id": "13eac61b-e5a2-44c9-909e-0637a8e5f94c",
   "metadata": {},
   "source": [
    "### 변동성 돌파전략 2\n",
    "\n",
    "외부 데이터를 이용하여 윌리암스의 변동성 돌파전략을 개선해보겠습니다."
   ]
  },
  {
   "cell_type": "markdown",
   "id": "457a9860-bcb0-4438-b4cb-89ee817c7482",
   "metadata": {},
   "source": [
    "### 주가지수 데이터로 전략 개선\n",
    "변동성 돌파전략은 시장이 좋을 때 활용하면 효과가 더 좋을 것 같습니다. 아무래도 상승장에서는 전일의 변동성을 돌파할 올라갈 확률이 높지 않을까요? 코스피 주가지수 데이터를 불러와서, 전일 코스피 주가지수의 수익율(종가 기준) 2%이상 발생한 경우만 매수를  하면 어떤 결과가 나오는 지 테스트 해 보겠습니다. 매수일을 기준으로 2% 수익률이상으로 하면 더 좋을 것 같으나, 매수일의 종가 기준 수익율은 알 수 가 없기 때문에 전일을 기준으로 합니다. 먼저 지수데이터를 가져와서 종가 수익율을 계산합니다."
   ]
  },
  {
   "cell_type": "code",
   "execution_count": 6,
   "id": "bb463ced-4bee-4682-a61b-f662b4692056",
   "metadata": {},
   "outputs": [],
   "source": [
    "import FinanceDataReader as fdr \n",
    "import pandas as pd\n",
    "\n",
    "kospi_index = fdr.DataReader('KS11',  start='2021-01-03', end='2021-12-31') \n",
    "kospi_index['kospi_return'] = kospi_index['Close']/kospi_index['Close'].shift(1)\n",
    "kospi_index.to_pickle('kospi_index.pkl')"
   ]
  },
  {
   "cell_type": "markdown",
   "id": "de1063bc-94a6-421b-b77b-dc50abed87f7",
   "metadata": {},
   "source": [
    "<br>\n",
    "지수 데이터는 위에서서 같이 FinanceDataReader 로 획득이 가능하지만, 야후 파이낸스 라이브러리를 이용하여 다운로드도 가능합니다. 아나콘다 Prompt 에서 pip install yfinance 라고 적어서 설치할 수 도 있고, 쥬피터 노트북상에서는 !pip install yfinance 로 설치할 수 있습니다. 주피터 노트북 설치 코드에는 앞에 느낌표가 있는 것을 유의하세요. 저는 아나콘다 prompt 에서 설치를 선호합니다. 아나콘다 Prompt 에서는 설치 과정을 보여주기 때문에, 설치가 안 되면 어떤 문제가 있는 지도 알 수 있습니다.\n",
    "\n",
    "```python\n",
    "(주피터노트북 상에 설치할 경우) !pip install yfinance\n",
    "그리고 yfinance 를 yf 이름으로 import 합니다.\n",
    "```"
   ]
  },
  {
   "cell_type": "code",
   "execution_count": 7,
   "id": "b57fb0f3-432b-49a1-b017-40fe2125b847",
   "metadata": {},
   "outputs": [
    {
     "name": "stdout",
     "output_type": "stream",
     "text": [
      "[*********************100%***********************]  1 of 1 completed\n",
      "[*********************100%***********************]  1 of 1 completed\n"
     ]
    }
   ],
   "source": [
    "import yfinance as yf\n",
    "import pandas as pd\n",
    "\n",
    "kospi_index =  yf.download('^KS11', start = '2021-01-03', end = '2021-12-31') # 코스피\n",
    "kosdaq_index =  yf.download('^KQ11', start = '2021-01-03', end = '2021-12-31') # 코스닥 \n",
    "\n",
    "kospi_index['kospi_return'] = kospi_index['Close']/kospi_index['Close'].shift(1)"
   ]
  },
  {
   "cell_type": "markdown",
   "id": "b38e7d22-fa2e-46cb-81d5-3f26e3a87928",
   "metadata": {},
   "source": [
    "지수 데이터를 이용하면, 조건이 추가되므로 매수할 기회가 적어집니다. 지수데이터를 이용함으로써 예상수익율(일)이 0.3% 에서 1.6% 으로 올라갔습니다. 예상 최저수익율도 올라가서 리스크를 상당히 줄일 수 가 있습니다. 단, 매수 횟 수가 낮아 누적 수익율도 낮아졌습니다. "
   ]
  },
  {
   "cell_type": "code",
   "execution_count": 9,
   "id": "8bfcea52-28e2-45ba-89af-79931f3e08d5",
   "metadata": {},
   "outputs": [
    {
     "name": "stdout",
     "output_type": "stream",
     "text": [
      "------------- 지수 데이터를 이용하지 않은 경우 ---------------\n",
      "          num_obs      return       worst       cumul\n",
      "count  813.000000  813.000000  813.000000  813.000000\n",
      "mean    92.386224    1.003091    0.901078    1.327297\n",
      "std     15.505709    0.004126    0.143677    0.538506\n",
      "min      2.000000    0.972844    0.000000    0.000000\n",
      "25%     88.000000    1.000793    0.898420    1.044780\n",
      "50%     94.000000    1.002838    0.931694    1.255082\n",
      "75%    101.000000    1.005134    0.953390    1.514587\n",
      "max    127.000000    1.017648    1.000000    5.318219\n",
      "\n",
      "\n",
      "------------- 지수 데이터를 이용한 경우 ---------------\n",
      "         num_obs     return      worst      cumul\n",
      "count  49.000000  49.000000  49.000000  49.000000\n",
      "mean    2.632653   1.016587   0.999324   1.040313\n",
      "std     0.950743   0.019533   0.023267   0.044875\n",
      "min     1.000000   0.975929   0.930901   0.927857\n",
      "25%     2.000000   1.005605   0.984810   1.015540\n",
      "50%     3.000000   1.011357   1.000000   1.029940\n",
      "75%     3.000000   1.025377   1.010989   1.060224\n",
      "max     4.000000   1.095283   1.066127   1.184608\n"
     ]
    }
   ],
   "source": [
    "kospi_index = pd.read_pickle('kospi_index.pkl')\n",
    "kospi_list = pd.read_pickle('kospi_list.pkl')\n",
    "\n",
    "def avg_return(code, K, deci):\n",
    "    \n",
    "    stock = fdr.DataReader(code, start='2021-01-03', end='2021-12-31')       \n",
    "    stock_data = stock.merge(kospi_index['kospi_return'], left_index=True, right_index=True, how='inner')\n",
    "    stock_data['v'] = (stock_data['High'].shift(1) - stock_data['Low'].shift(1))*K\n",
    "    stock_data['buy_price'] = stock_data['Open'] + stock_data['v']\n",
    "    stock_data.dropna(inplace=True) # shift함수 이용으로 생긴 빈 셀 제거\n",
    "    \n",
    "    if deci == 1: # 지수 데이터를 이용한 경우\n",
    "        stock_data['buy'] = (stock_data['High'] > stock_data['buy_price'])*(stock_data['Low'] < stock_data['buy_price'])*(stock_data['kospi_return'].shift(1) > 1.02).astype(int)\n",
    "        \n",
    "    else: # 지수 데이터를 이용하지 않은 경우 \n",
    "        stock_data['buy'] = (stock_data['High'] > stock_data['buy_price'])*(stock_data['Low'] < stock_data['buy_price']).astype(int)\n",
    "        \n",
    "    stock_data['return'] = stock_data['Open'].shift(-1)/stock_data['buy_price']\n",
    "    \n",
    "    n = len(stock_data[stock_data['buy']==1])\n",
    "    r = stock_data[stock_data['buy']==1]['return'].mean()\n",
    "    w = stock_data[stock_data['buy']==1]['return'].min()\n",
    "    c = stock_data[stock_data['buy']==1]['return'].prod()\n",
    "    return n, r, w, c\n",
    "\n",
    "\n",
    "print('------------- 지수 데이터를 이용하지 않은 경우 ---------------')\n",
    "symbol_list = []\n",
    "name_list = []\n",
    "obs_list = []\n",
    "return_list = []\n",
    "worst_list = []\n",
    "cumul_list = []\n",
    "\n",
    "for code, name in zip(kospi_list['code'],  kospi_list['name']):\n",
    "    n, r, w, c = avg_return(code, 0.5, 0)\n",
    "    \n",
    "    if (r > 0) and (n > 0):  # 수익율 값이 존재하고, 최소한 한번 이상 거래일 존재해야 진행\n",
    "        symbol_list.append(code)\n",
    "        name_list.append(name)\n",
    "        obs_list.append(n)  # 매수 횟 수\n",
    "        return_list.append(r)    \n",
    "        worst_list.append(w)\n",
    "        cumul_list.append(c)\n",
    "        \n",
    "    else:\n",
    "        continue\n",
    "    \n",
    "outcome_0 = pd.DataFrame({'symbol': symbol_list, 'name': name_list, 'num_obs': obs_list, 'return': return_list, 'worst': worst_list, 'cumul': cumul_list})\n",
    "print(outcome_0[['num_obs','return','worst','cumul']].describe())\n",
    "\n",
    "print('\\n')\n",
    "print('------------- 지수 데이터를 이용한 경우 ---------------')\n",
    "symbol_list = []\n",
    "name_list = []\n",
    "obs_list = []\n",
    "return_list = []\n",
    "worst_list = []\n",
    "cumul_list = []\n",
    "\n",
    "for code, name in zip(kospi_list['code'][:50],  kospi_list['name'][:50]):\n",
    "    n, r, w, c = avg_return(code, 0.5, 1)    \n",
    "   \n",
    "    if (r > 0) and (n > 0) :  # 수익율 값이 존재하고, 최소한 한번 이상 거래일 존재해야 진행\n",
    "        symbol_list.append(code)\n",
    "        name_list.append(name)\n",
    "        obs_list.append(n) # 매수 횟 수\n",
    "        return_list.append(r)    \n",
    "        worst_list.append(w)\n",
    "        cumul_list.append(c)\n",
    "        \n",
    "    else:\n",
    "        continue\n",
    "    \n",
    "outcome_1 = pd.DataFrame({'symbol': symbol_list, 'name': name_list,  'num_obs': obs_list, 'return': return_list, 'worst': worst_list, 'cumul': cumul_list})  \n",
    "print(outcome_1[['num_obs','return','worst','cumul']].describe())"
   ]
  },
  {
   "cell_type": "code",
   "execution_count": null,
   "id": "ca620a81-3900-4bf8-8901-eb569475df32",
   "metadata": {},
   "outputs": [],
   "source": []
  }
 ],
 "metadata": {
  "kernelspec": {
   "display_name": "Python 3 (ipykernel)",
   "language": "python",
   "name": "python3"
  },
  "language_info": {
   "codemirror_mode": {
    "name": "ipython",
    "version": 3
   },
   "file_extension": ".py",
   "mimetype": "text/x-python",
   "name": "python",
   "nbconvert_exporter": "python",
   "pygments_lexer": "ipython3",
   "version": "3.9.7"
  }
 },
 "nbformat": 4,
 "nbformat_minor": 5
}
