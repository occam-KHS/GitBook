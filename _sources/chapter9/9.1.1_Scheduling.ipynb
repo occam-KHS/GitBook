{
 "cells": [
  {
   "cell_type": "markdown",
   "id": "319a00e1-0ad7-4180-878c-20665ae66899",
   "metadata": {},
   "source": [
    "### 윈도우즈 스케줄러\n",
    "\n",
    "오전 9시에 'main.py' 파이썬 프로그램이 자동으로 실행이 되게 윈도우즈 스케줄링 해 보겠습니다. "
   ]
  },
  {
   "cell_type": "code",
   "execution_count": null,
   "id": "de006186-44e4-43d9-b6bb-a080c9522175",
   "metadata": {},
   "outputs": [],
   "source": []
  }
 ],
 "metadata": {
  "kernelspec": {
   "display_name": "Python 3 (ipykernel)",
   "language": "python",
   "name": "python3"
  },
  "language_info": {
   "codemirror_mode": {
    "name": "ipython",
    "version": 3
   },
   "file_extension": ".py",
   "mimetype": "text/x-python",
   "name": "python",
   "nbconvert_exporter": "python",
   "pygments_lexer": "ipython3",
   "version": "3.9.7"
  }
 },
 "nbformat": 4,
 "nbformat_minor": 5
}
