{
 "cells": [
  {
   "cell_type": "code",
   "execution_count": 2,
   "id": "88fe3652-114a-4e7d-9a53-5d98ef34d7dc",
   "metadata": {},
   "outputs": [],
   "source": [
    "import os"
   ]
  },
  {
   "cell_type": "code",
   "execution_count": 28,
   "id": "22549f5f-a6d5-43f6-acfb-ed468ac69059",
   "metadata": {},
   "outputs": [
    {
     "data": {
      "text/plain": [
       "['chapter1_01.pdf',\n",
       " 'chapter1_02.pdf',\n",
       " 'chapter2_01.pdf',\n",
       " 'chapter2_02.pdf',\n",
       " 'chapter2_03.pdf',\n",
       " 'chapter2_04.pdf',\n",
       " 'chapter2_05.pdf',\n",
       " 'chapter2_06.pdf',\n",
       " 'chapter2_07.pdf',\n",
       " 'chapter2_08.pdf',\n",
       " 'chapter2_09.pdf',\n",
       " 'chapter2_10.pdf',\n",
       " 'chapter2_11.pdf',\n",
       " 'chapter2_12.pdf',\n",
       " 'chapter2_13.pdf',\n",
       " 'chapter2_14.pdf',\n",
       " 'chapter2_15.pdf',\n",
       " 'chapter2_16.pdf',\n",
       " 'chapter2_17.pdf',\n",
       " 'chapter2_18.pdf',\n",
       " 'chapter2_19.pdf',\n",
       " 'chapter2_20.pdf',\n",
       " 'chapter3_01.pdf',\n",
       " 'chapter3_02.pdf',\n",
       " 'chapter3_03.pdf',\n",
       " 'chapter3_04.pdf',\n",
       " 'chapter3_05.pdf',\n",
       " 'chapter4_01.pdf',\n",
       " 'chapter4_02.pdf',\n",
       " 'chapter4_03.pdf',\n",
       " 'chapter4_04.pdf',\n",
       " 'chapter4_05.pdf',\n",
       " 'chapter4_06.pdf',\n",
       " 'chapter4_07.pdf',\n",
       " 'chapter4_08.pdf',\n",
       " 'chapter4_09.pdf',\n",
       " 'chapter5_01.pdf',\n",
       " 'chapter5_02.pdf',\n",
       " 'chapter5_03.pdf',\n",
       " 'chapter5_04.pdf',\n",
       " 'chapter5_05.pdf',\n",
       " 'chapter5_06.pdf',\n",
       " 'chapter5_07.pdf',\n",
       " 'chapter5_08.pdf',\n",
       " 'chapter5_09.pdf',\n",
       " 'chapter5_10.pdf',\n",
       " 'chapter5_11.pdf',\n",
       " 'chapter5_12.pdf',\n",
       " 'chapter6_01.pdf',\n",
       " 'chapter6_02.pdf',\n",
       " 'chapter6_03.pdf',\n",
       " 'chapter6_04.pdf',\n",
       " 'chapter7_01.pdf',\n",
       " 'chapter7_02.pdf',\n",
       " 'chapter7_03.pdf',\n",
       " 'chapter7_04.pdf',\n",
       " 'chapter7_05.pdf',\n",
       " 'chapter7_06.pdf',\n",
       " 'chapter8_01.pdf',\n",
       " 'chapter8_02.pdf',\n",
       " 'chapter8_03.pdf',\n",
       " 'chapter9_01.pdf',\n",
       " 'chapter9_02.pdf',\n",
       " 'chapter9_03.pdf']"
      ]
     },
     "execution_count": 28,
     "metadata": {},
     "output_type": "execute_result"
    }
   ],
   "source": [
    "loc = 'C:\\\\Users\\\\shinki\\\\Hanbit_Media\\\\To_Word\\\\'\n",
    "files = os.listdir(loc)\n",
    "files = [f for f in files if ('pdf' in f)]\n",
    "sorted(files)"
   ]
  },
  {
   "cell_type": "code",
   "execution_count": 29,
   "id": "96cf3559-e718-4742-96ae-2fc6e6597eb2",
   "metadata": {},
   "outputs": [],
   "source": [
    "for file in sorted(files):\n",
    "    if file[-6] == '_':\n",
    "        os.rename(file, file.replace(\"_\",'_0'))"
   ]
  },
  {
   "cell_type": "code",
   "execution_count": 31,
   "id": "b72c2281-5601-498e-aa6b-94d4499c4bc3",
   "metadata": {},
   "outputs": [],
   "source": [
    "from PyPDF2 import PdfMerger\n",
    "\n",
    "loc = 'C:\\\\Users\\\\shinki\\\\Hanbit_Media\\\\To_Word\\\\'\n",
    "files = os.listdir(loc)\n",
    "files = [f for f in files if ('pdf' in f)]\n",
    "\n",
    "merger = PdfMerger()\n",
    "\n",
    "for pdf in files:\n",
    "    merger.append(pdf)\n",
    "\n",
    "merger.write(\"chapter_all.pdf\")\n",
    "merger.close()"
   ]
  },
  {
   "cell_type": "code",
   "execution_count": 66,
   "id": "5c776ef8-9142-43dd-8776-dc0363df602b",
   "metadata": {},
   "outputs": [
    {
     "data": {
      "text/plain": [
       "<aspose.words.saving.SaveOutputParameters object at 0x00000168A943FEB0>"
      ]
     },
     "execution_count": 66,
     "metadata": {},
     "output_type": "execute_result"
    }
   ],
   "source": [
    "import aspose.words as aw\n",
    "\n",
    "loc = 'C:\\\\Users\\\\shinki\\\\Hanbit_Media\\\\To_Word\\\\'\n",
    "\n",
    "doc = aw.Document(loc + 'chapter_all.pdf')\n",
    "doc.save(loc + \"chapter_all.docx\")"
   ]
  },
  {
   "cell_type": "code",
   "execution_count": 62,
   "id": "4f1472a7-c0b3-4c84-b08c-8bc0ac8cae18",
   "metadata": {},
   "outputs": [
    {
     "name": "stdout",
     "output_type": "stream",
     "text": [
      "['chapter1_1.pdf', 'chapter1_2.pdf', 'chapter2_1.pdf', 'chapter2_10.pdf', 'chapter2_11.pdf', 'chapter2_12.pdf', 'chapter2_13.pdf', 'chapter2_14.pdf', 'chapter2_15.pdf', 'chapter2_16.pdf', 'chapter2_17.pdf', 'chapter2_18.pdf', 'chapter2_19.pdf', 'chapter2_2.pdf', 'chapter2_20.pdf', 'chapter2_3.pdf', 'chapter2_4.pdf', 'chapter2_5.pdf', 'chapter2_6.pdf', 'chapter2_7.pdf', 'chapter2_8.pdf', 'chapter2_9.pdf']\n"
     ]
    }
   ],
   "source": [
    "print(files)"
   ]
  },
  {
   "cell_type": "code",
   "execution_count": 56,
   "id": "eab67083-1bc7-4ce0-9904-04bf2b9fdb2e",
   "metadata": {},
   "outputs": [
    {
     "data": {
      "text/plain": [
       "<aspose.words.saving.SaveOutputParameters object at 0x00000168AA142850>"
      ]
     },
     "execution_count": 56,
     "metadata": {},
     "output_type": "execute_result"
    }
   ],
   "source": [
    "# import aspose.words as aw\n",
    "\n",
    "# # Load source and destination documents\n",
    "# dstDoc = aw.Document(\"chapter1_1.docx\")\n",
    "# srcDoc = aw.Document(\"chapter1_2.docx\")\n",
    "\n",
    "# # Append the source document to the destination document.\n",
    "# # Pass format mode to retain the original formatting of the source document when importing it.\n",
    "# dstDoc.append_document(srcDoc, aw.ImportFormatMode.KEEP_SOURCE_FORMATTING)\n",
    "\n",
    "# # Combine Word documents\n",
    "# dstDoc.save(\"chapter2.docx\")"
   ]
  },
  {
   "cell_type": "code",
   "execution_count": null,
   "id": "5d93e6f6-59ad-40e9-9fe0-ac6416b40d50",
   "metadata": {},
   "outputs": [],
   "source": []
  },
  {
   "cell_type": "code",
   "execution_count": 50,
   "id": "9b6dc1b3-c95b-4121-bb10-cd4a6784ff24",
   "metadata": {},
   "outputs": [
    {
     "data": {
      "text/plain": [
       "['chapter1_1.docx', 'chapter1_2.docx']"
      ]
     },
     "execution_count": 50,
     "metadata": {},
     "output_type": "execute_result"
    }
   ],
   "source": [
    "# from docx import Document\n",
    "# files = os.listdir(out_loc)\n",
    "# files = [f for f in files if 'docx' in f]\n",
    "# files"
   ]
  },
  {
   "cell_type": "code",
   "execution_count": 51,
   "id": "19ebce0f-a058-4a90-9570-9b4ec5aebc4d",
   "metadata": {},
   "outputs": [],
   "source": [
    "# document = Document()\n",
    "# document.add_paragraph('chapter2_1.docx')\n",
    "# document.add_paragraph(\"chapter2_2.docx\")\n",
    "# document.save(\"chapter2.docx\")"
   ]
  },
  {
   "cell_type": "code",
   "execution_count": null,
   "id": "220feae1-b4bd-4469-b4f2-c4b8be68017e",
   "metadata": {},
   "outputs": [],
   "source": [
    "# from docx import Document\n",
    "# from docxcompose.composer import Composer\n",
    "    \n",
    "# master = Document(\"chapter2_1.docx\")\n",
    "# composer = Composer(master)\n",
    "# doc1 = Document(\"chapter2_2.docx\")\n",
    "# composer.append(doc1)\n",
    "# master.save('chapter2.docx')"
   ]
  },
  {
   "cell_type": "code",
   "execution_count": 53,
   "id": "2c857514-05fb-440b-8610-3e658e128f94",
   "metadata": {},
   "outputs": [
    {
     "name": "stdout",
     "output_type": "stream",
     "text": [
      "Collecting docxcompose\n",
      "  Downloading docxcompose-1.3.5.tar.gz (19 kB)\n",
      "  Preparing metadata (setup.py): started\n",
      "  Preparing metadata (setup.py): finished with status 'done'\n",
      "Requirement already satisfied: lxml in c:\\users\\shinki\\anaconda3\\lib\\site-packages (from docxcompose) (4.9.1)\n",
      "Requirement already satisfied: python-docx>=0.8.8 in c:\\users\\shinki\\anaconda3\\lib\\site-packages (from docxcompose) (0.8.11)\n",
      "Requirement already satisfied: setuptools in c:\\users\\shinki\\anaconda3\\lib\\site-packages (from docxcompose) (58.3.0)\n",
      "Requirement already satisfied: six in c:\\users\\shinki\\anaconda3\\lib\\site-packages (from docxcompose) (1.16.0)\n",
      "Building wheels for collected packages: docxcompose\n",
      "  Building wheel for docxcompose (setup.py): started\n",
      "  Building wheel for docxcompose (setup.py): finished with status 'done'\n",
      "  Created wheel for docxcompose: filename=docxcompose-1.3.5-py3-none-any.whl size=22161 sha256=5b57b0eff67809555da015530c14e8c59473066996b7894e1248036f1a0c943c\n",
      "  Stored in directory: c:\\users\\shinki\\appdata\\local\\pip\\cache\\wheels\\bf\\d7\\2d\\32e69329b140941ff5e94b128663fc05098349f9372316e322\n",
      "Successfully built docxcompose\n",
      "Installing collected packages: docxcompose\n",
      "Successfully installed docxcompose-1.3.5\n"
     ]
    },
    {
     "name": "stderr",
     "output_type": "stream",
     "text": [
      "WARNING: Ignoring invalid distribution -illow (c:\\users\\shinki\\anaconda3\\lib\\site-packages)\n",
      "WARNING: Ignoring invalid distribution -illow (c:\\users\\shinki\\anaconda3\\lib\\site-packages)\n",
      "WARNING: Ignoring invalid distribution -illow (c:\\users\\shinki\\anaconda3\\lib\\site-packages)\n",
      "WARNING: Ignoring invalid distribution -illow (c:\\users\\shinki\\anaconda3\\lib\\site-packages)\n",
      "WARNING: Ignoring invalid distribution -illow (c:\\users\\shinki\\anaconda3\\lib\\site-packages)\n",
      "WARNING: Ignoring invalid distribution -illow (c:\\users\\shinki\\anaconda3\\lib\\site-packages)\n",
      "WARNING: Ignoring invalid distribution -illow (c:\\users\\shinki\\anaconda3\\lib\\site-packages)\n"
     ]
    }
   ],
   "source": [
    "!pip install docxcompose"
   ]
  },
  {
   "cell_type": "code",
   "execution_count": null,
   "id": "58ce6241-c0e4-4c11-ab37-b0cc97cb4e7a",
   "metadata": {},
   "outputs": [],
   "source": []
  }
 ],
 "metadata": {
  "kernelspec": {
   "display_name": "Python 3 (ipykernel)",
   "language": "python",
   "name": "python3"
  },
  "language_info": {
   "codemirror_mode": {
    "name": "ipython",
    "version": 3
   },
   "file_extension": ".py",
   "mimetype": "text/x-python",
   "name": "python",
   "nbconvert_exporter": "python",
   "pygments_lexer": "ipython3",
   "version": "3.9.7"
  }
 },
 "nbformat": 4,
 "nbformat_minor": 5
}
