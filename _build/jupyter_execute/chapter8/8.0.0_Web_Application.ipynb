{
 "cells": [
  {
   "cell_type": "markdown",
   "id": "9a8d1e60-13f4-47c5-8de2-abb4912ff0dd",
   "metadata": {},
   "source": [
    "### **WebApp을 만들어보자**"
   ]
  },
  {
   "cell_type": "markdown",
   "id": "b77015b6-5393-4e71-a288-71302080b1d3",
   "metadata": {},
   "source": [
    "Streamlit 는 머신러닝 결과를 손쉽게 배포할 수 있는 패키지입니다. 일반적으로 웹앱은 HTML, CSS, JavaScript 등의 기술이 있어야 원하는 웹앱을 만들 수 있습니다. 파이썬만으로 웹앱을 만들 수 있게 해 주는 패키지가 Streamlit 입니다. Steamlit 을 써보고 \"바로 이거야\" 하고 감탄했던 기억이 납니다. 이런 상황을 생각해 보세요. 오늘 갑자기 지방출장이 생겼습니다. 회사 노트북으로는 파이썬을 돌리지 못하니 어떤 종목을 추천받아 매수를 해야 할지 궁금합니다. 만약 웹앱을 만들어 인터넷으로 추천 종목 결과물을 받아보면 얼마나 좋을까요? streamlit 을 이용하면 아주 쉽게 할 수 있습니다. 더 나아가 매수/매도 결과 등도 웹앱을 이용해 조회 할 수 있습니다.    "
   ]
  },
  {
   "cell_type": "markdown",
   "id": "01b4c701-a062-4efb-8638-46b79fcee7f8",
   "metadata": {},
   "source": [
    "이 책에서 구현하고자 하는 웹앱은 장 마감 후, 당일 날짜를 'YYYY-MM-DD' 형식으로 입력하면 내일 매수 추천 종목이 뜨는 WebApp입니다. 먼저 만들어 놓은 종목 추천 함수를 테스트 해 봅니다. 추천함수에 필요한 데이터는 종목별로 Loop 를 돌리기 위한 'kosdaq_list.pkl' 파일과 모델 데이터 \"gam.pkl\" 입니다. 이 두 파일이 같은 폴더에 있어야 됩니다. "
   ]
  },
  {
   "cell_type": "code",
   "execution_count": 5,
   "id": "708894ab-f5ba-446e-8746-99c925c76223",
   "metadata": {},
   "outputs": [],
   "source": [
    "import FinanceDataReader as fdr\n",
    "import yfinance as yf\n",
    "import pandas as pd\n",
    "import numpy as np\n",
    "import datetime\n",
    "import pickle\n",
    "import time\n",
    "import datetime"
   ]
  },
  {
   "cell_type": "code",
   "execution_count": 1,
   "id": "28b9de10-d150-4874-b449-7533fbe77d08",
   "metadata": {},
   "outputs": [],
   "source": [
    "def select_stocks(today_dt):\n",
    "    \n",
    "    today = datetime.datetime.strptime(today_dt, '%Y-%m-%d')\n",
    "    start_dt = today - datetime.timedelta(days=100) # 100 일전 데이터 부터 시작 - 피쳐 엔지니어링은 최소 60 개의 일봉이 필요함\n",
    "    print(start_dt, today_dt)\n",
    "\n",
    "    kosdaq_list = pd.read_pickle('kosdaq_list.pkl')\n",
    "\n",
    "    price_data = pd.DataFrame()\n",
    "\n",
    "    for code, name in zip(kosdaq_list['code'], kosdaq_list['name']):  # 코스닥 모든 종목에서 대하여 반복\n",
    "        daily_price = fdr.DataReader(code, start = start_dt, end = today_dt) # 종목, 일봉, 데이터 갯수\n",
    "\n",
    "        daily_price['code'] = code\n",
    "        daily_price['name'] = name\n",
    "        price_data = pd.concat([price_data, daily_price], axis=0)   \n",
    "\n",
    "    price_data.index.name = 'date'\n",
    "    price_data.columns= price_data.columns.str.lower() # 컬럼 이름 소문자로 변경  \n",
    "    \n",
    "    # DataReder 코스닥 인덱스 조회 실패시, 야후파이낸스로 추출    \n",
    "    # kosdaq_index = fdr.DataReader('KQ11', start = start_dt, end = today_dt) # 데이터 호출\n",
    "    # kosdaq_index.columns = ['close','open','high','low','volume','change'] # 컬럼명 변경\n",
    "    \n",
    "    kosdaq_index =  yf.download('^KQ11', start = start_dt)\n",
    "    kosdaq_index.columns = ['open','high','low','close','adj_close','volume'] # 컬럼명 변경\n",
    "    kosdaq_index.index.name='date' # 인덱스 이름 생성\n",
    "    kosdaq_index.sort_index(inplace=True) # 인덱스(날짜) 로 정렬 \n",
    "    kosdaq_index['kosdaq_return'] = kosdaq_index['close']/kosdaq_index['close'].shift(1) # 수익율 : 전 날 종가대비 당일 종가\n",
    "    \n",
    "\n",
    "    merged = price_data.merge(kosdaq_index['kosdaq_return'], left_index=True, right_index=True, how='left')\n",
    "\n",
    "    return_all = pd.DataFrame()\n",
    "\n",
    "    for code in kosdaq_list['code']:  \n",
    "\n",
    "        stock_return = merged[merged['code']==code].sort_index()\n",
    "        stock_return['return'] = stock_return['close']/stock_return['close'].shift(1) # 종목별 전일 종가 대비 당일 종가 수익율\n",
    "        c1 = (stock_return['kosdaq_return'] < 1) # 수익율 1 보다 작음. 당일 종가가 전일 종가보다 낮음 (코스닥 지표)\n",
    "        c2 = (stock_return['return'] > 1) # 수익율 1 보다 큼. 당일 종가가 전일 종가보다 큼 (개별 종목)\n",
    "        stock_return['win_market'] = np.where((c1&c2), 1, 0) # C1 과 C2 조건을 동시에 만족하면 1, 아니면 0\n",
    "        return_all = pd.concat([return_all, stock_return], axis=0) \n",
    "\n",
    "    return_all.dropna(inplace=True)    \n",
    "\n",
    "    model_inputs = pd.DataFrame()\n",
    "\n",
    "    for code, name, sector in zip(kosdaq_list['code'], kosdaq_list['name'], kosdaq_list['sector']):\n",
    "\n",
    "        data = return_all[return_all['code']==code].sort_index().copy()    \n",
    "\n",
    "        # 가격변동성이 크고, 거래량이 몰린 종목이 주가가 상승한다\n",
    "        data['price_mean'] = data['close'].rolling(20).mean()\n",
    "        data['price_std'] = data['close'].rolling(20).std(ddof=0)\n",
    "        data['price_z'] = (data['close'] - data['price_mean'])/data['price_std']    \n",
    "        data['volume_mean'] = data['volume'].rolling(20).mean()\n",
    "        data['volume_std'] = data['volume'].rolling(20).std(ddof=0)\n",
    "        data['volume_z'] = (data['volume'] - data['volume_mean'])/data['volume_std']\n",
    "\n",
    "        # 위꼬리가 긴 양봉이 자주발생한다.\n",
    "        data['positive_candle'] = (data['close'] > data['open']).astype(int) # 양봉\n",
    "        data['high/close'] = (data['positive_candle']==1)*(data['high']/data['close'] > 1.1).astype(int) # 양봉이면서 고가가 종가보다 높게 위치\n",
    "        data['num_high/close'] =  data['high/close'].rolling(20).sum()\n",
    "        data['long_candle'] = (data['positive_candle']==1)*(data['high']==data['close'])*\\\n",
    "        (data['low']==data['open'])*(data['close']/data['open'] > 1.2).astype(int) # 장대 양봉을 데이터로 표현\n",
    "        data['num_long'] =  data['long_candle'].rolling(60).sum() # 지난 20 일 동안 장대양봉의 갯 수\n",
    "\n",
    "\n",
    "         # 거래량이 종좀 터지며 매집의 흔적을 보인다   \n",
    "        data['volume_mean'] = data['volume'].rolling(60).mean()\n",
    "        data['volume_std'] = data['volume'].rolling(60).std()\n",
    "        data['volume_z'] = (data['volume'] - data['volume_mean'])/data['volume_std'] # 거래량은 종목과 주가에 따라 다르기 떄문에 표준화한 값이 필요함\n",
    "        data['z>1.96'] = (data['close'] > data['open'])*(data['volume_z'] > 1.65).astype(int) # 양봉이면서 거래량이 90%신뢰구간을 벗어난 날\n",
    "        data['num_z>1.96'] =  data['z>1.96'].rolling(60).sum()  # 양봉이면서 거래량이 90% 신뢰구간을 벗어난 날을 카운트\n",
    "\n",
    "        # 주가지수보다 더 좋은 수익율을 보여준다\n",
    "        data['num_win_market'] = data['win_market'].rolling(60).sum() # 주가지수 수익율이 1 보다 작을 때, 종목 수익율이 1 보다 큰 날 수\n",
    "        data['pct_win_market'] = (data['return']/data['kosdaq_return']).rolling(60).mean() # 주가지수 수익율 대비 종목 수익율\n",
    "\n",
    "\n",
    "        # 동종업체 수익률보다 더 좋은 수익율을 보여준다.           \n",
    "        data['return_mean'] = data['return'].rolling(60).mean() # 종목별 최근 60 일 수익율의 평균\n",
    "        data['sector'] = sector    \n",
    "        data['name'] = name\n",
    "\n",
    "        data = data[(data['price_std']!=0) & (data['volume_std']!=0)]    \n",
    "\n",
    "        model_inputs = pd.concat([data, model_inputs], axis=0)\n",
    "\n",
    "    model_inputs['sector_return'] = model_inputs.groupby(['sector', model_inputs.index])['return'].transform(lambda x: x.mean()) # 섹터의 평균 수익율 계산\n",
    "    model_inputs['return over sector'] = (model_inputs['return']/model_inputs['sector_return']) # 섹터 평균 수익률 대비 종목 수익률 계산\n",
    "    model_inputs.dropna(inplace=True) # Missing 값 있는 행 모두 제거\n",
    "\n",
    "\n",
    "    feature_list = ['price_z','volume_z','num_high/close','num_win_market','pct_win_market','return over sector']\n",
    "\n",
    "    X = model_inputs.loc[today_dt][['code','name','return','kosdaq_return','close'] + feature_list].set_index('code') \n",
    "\n",
    "    with open(\"gam.pkl\", \"rb\") as file:\n",
    "        gam = pickle.load(file)     \n",
    "\n",
    "    yhat = gam.predict_proba(X[feature_list])\n",
    "    X['yhat'] = yhat\n",
    "\n",
    "    tops = X[X['yhat'] >= 0.3].sort_values(by='yhat', ascending=False) # 스코어 0.3 이상 종목만 \n",
    "    print(len(tops))    \n",
    "     \n",
    "    select_tops = tops[(tops['return'] > 1.03) & (tops['price_z'] < 0)][['name','return','price_z','yhat','return', 'kosdaq_return','close']]  # 기본 필터링 조건   \n",
    "      \n",
    "    if len(select_tops) > 1: # 최소한 2개 종목 - 추천 리스크 분산        \n",
    "        return select_tops    \n",
    "    \n",
    "    else:\n",
    "        return None"
   ]
  },
  {
   "cell_type": "markdown",
   "id": "f8db5808-4b77-49ee-a7de-e2f52c238f71",
   "metadata": {},
   "source": [
    "2022년 4월 1일을 테스트 한 결과 함수가 잘 작동하는 것을 확인할 수 있습니다."
   ]
  },
  {
   "cell_type": "code",
   "execution_count": 6,
   "id": "ed27d08d-921b-4bbf-953a-6747d17b9421",
   "metadata": {},
   "outputs": [
    {
     "name": "stdout",
     "output_type": "stream",
     "text": [
      "2021-12-22 00:00:00 2022-04-01\n",
      "[*********************100%***********************]  1 of 1 completed\n",
      "203\n"
     ]
    },
    {
     "data": {
      "text/html": [
       "<style type=\"text/css\">\n",
       "</style>\n",
       "<table id=\"T_949e8_\" style=\"font-size: 12px\">\n",
       "  <thead>\n",
       "    <tr>\n",
       "      <th class=\"blank level0\" >&nbsp;</th>\n",
       "      <th class=\"col_heading level0 col0\" >name</th>\n",
       "      <th class=\"col_heading level0 col1\" >return</th>\n",
       "      <th class=\"col_heading level0 col2\" >price_z</th>\n",
       "      <th class=\"col_heading level0 col3\" >yhat</th>\n",
       "      <th class=\"col_heading level0 col4\" >return</th>\n",
       "      <th class=\"col_heading level0 col5\" >kosdaq_return</th>\n",
       "      <th class=\"col_heading level0 col6\" >close</th>\n",
       "    </tr>\n",
       "    <tr>\n",
       "      <th class=\"index_name level0\" >code</th>\n",
       "      <th class=\"blank col0\" >&nbsp;</th>\n",
       "      <th class=\"blank col1\" >&nbsp;</th>\n",
       "      <th class=\"blank col2\" >&nbsp;</th>\n",
       "      <th class=\"blank col3\" >&nbsp;</th>\n",
       "      <th class=\"blank col4\" >&nbsp;</th>\n",
       "      <th class=\"blank col5\" >&nbsp;</th>\n",
       "      <th class=\"blank col6\" >&nbsp;</th>\n",
       "    </tr>\n",
       "  </thead>\n",
       "  <tbody>\n",
       "    <tr>\n",
       "      <th id=\"T_949e8_level0_row0\" class=\"row_heading level0 row0\" >056090</th>\n",
       "      <td id=\"T_949e8_row0_col0\" class=\"data row0 col0\" >에디슨INNO</td>\n",
       "      <td id=\"T_949e8_row0_col1\" class=\"data row0 col1\" >1.080</td>\n",
       "      <td id=\"T_949e8_row0_col2\" class=\"data row0 col2\" >-1.621</td>\n",
       "      <td id=\"T_949e8_row0_col3\" class=\"data row0 col3\" >0.540</td>\n",
       "      <td id=\"T_949e8_row0_col4\" class=\"data row0 col4\" >1.080</td>\n",
       "      <td id=\"T_949e8_row0_col5\" class=\"data row0 col5\" >0.996</td>\n",
       "      <td id=\"T_949e8_row0_col6\" class=\"data row0 col6\" >2560</td>\n",
       "    </tr>\n",
       "    <tr>\n",
       "      <th id=\"T_949e8_level0_row1\" class=\"row_heading level0 row1\" >024740</th>\n",
       "      <td id=\"T_949e8_row1_col0\" class=\"data row1 col0\" >한일단조</td>\n",
       "      <td id=\"T_949e8_row1_col1\" class=\"data row1 col1\" >1.062</td>\n",
       "      <td id=\"T_949e8_row1_col2\" class=\"data row1 col2\" >-0.823</td>\n",
       "      <td id=\"T_949e8_row1_col3\" class=\"data row1 col3\" >0.355</td>\n",
       "      <td id=\"T_949e8_row1_col4\" class=\"data row1 col4\" >1.062</td>\n",
       "      <td id=\"T_949e8_row1_col5\" class=\"data row1 col5\" >0.996</td>\n",
       "      <td id=\"T_949e8_row1_col6\" class=\"data row1 col6\" >3185</td>\n",
       "    </tr>\n",
       "    <tr>\n",
       "      <th id=\"T_949e8_level0_row2\" class=\"row_heading level0 row2\" >083660</th>\n",
       "      <td id=\"T_949e8_row2_col0\" class=\"data row2 col0\" >CSA 코스믹</td>\n",
       "      <td id=\"T_949e8_row2_col1\" class=\"data row2 col1\" >1.035</td>\n",
       "      <td id=\"T_949e8_row2_col2\" class=\"data row2 col2\" >-0.094</td>\n",
       "      <td id=\"T_949e8_row2_col3\" class=\"data row2 col3\" >0.351</td>\n",
       "      <td id=\"T_949e8_row2_col4\" class=\"data row2 col4\" >1.035</td>\n",
       "      <td id=\"T_949e8_row2_col5\" class=\"data row2 col5\" >0.996</td>\n",
       "      <td id=\"T_949e8_row2_col6\" class=\"data row2 col6\" >2080</td>\n",
       "    </tr>\n",
       "    <tr>\n",
       "      <th id=\"T_949e8_level0_row3\" class=\"row_heading level0 row3\" >122690</th>\n",
       "      <td id=\"T_949e8_row3_col0\" class=\"data row3 col0\" >서진오토모티브</td>\n",
       "      <td id=\"T_949e8_row3_col1\" class=\"data row3 col1\" >1.058</td>\n",
       "      <td id=\"T_949e8_row3_col2\" class=\"data row3 col2\" >-0.114</td>\n",
       "      <td id=\"T_949e8_row3_col3\" class=\"data row3 col3\" >0.314</td>\n",
       "      <td id=\"T_949e8_row3_col4\" class=\"data row3 col4\" >1.058</td>\n",
       "      <td id=\"T_949e8_row3_col5\" class=\"data row3 col5\" >0.996</td>\n",
       "      <td id=\"T_949e8_row3_col6\" class=\"data row3 col6\" >3350</td>\n",
       "    </tr>\n",
       "    <tr>\n",
       "      <th id=\"T_949e8_level0_row4\" class=\"row_heading level0 row4\" >174880</th>\n",
       "      <td id=\"T_949e8_row4_col0\" class=\"data row4 col0\" >장원테크</td>\n",
       "      <td id=\"T_949e8_row4_col1\" class=\"data row4 col1\" >1.090</td>\n",
       "      <td id=\"T_949e8_row4_col2\" class=\"data row4 col2\" >-0.366</td>\n",
       "      <td id=\"T_949e8_row4_col3\" class=\"data row4 col3\" >0.305</td>\n",
       "      <td id=\"T_949e8_row4_col4\" class=\"data row4 col4\" >1.090</td>\n",
       "      <td id=\"T_949e8_row4_col5\" class=\"data row4 col5\" >0.996</td>\n",
       "      <td id=\"T_949e8_row4_col6\" class=\"data row4 col6\" >1990</td>\n",
       "    </tr>\n",
       "  </tbody>\n",
       "</table>\n"
      ],
      "text/plain": [
       "<pandas.io.formats.style.Styler at 0x1e514efc3d0>"
      ]
     },
     "execution_count": 6,
     "metadata": {},
     "output_type": "execute_result"
    }
   ],
   "source": [
    "select_tops = select_stocks('2022-04-01')\n",
    "select_tops.style.set_table_attributes('style=\"font-size: 12px\"').format(precision=3)"
   ]
  },
  {
   "cell_type": "markdown",
   "id": "12516f43-edf4-4332-82fb-b6de4416be45",
   "metadata": {},
   "source": [
    "<br></br>\n",
    "파이썬 파일 'stock_selection.py' 만들고 select_stocks() 함수를 복사해 넣습니다. 쥬피터랩을 쓰고 계신다면 File > New > Python File 에서 파일을 하나 만드시고 그 파일에 함수 select_stocks() 를 복사해서 넣으면 됩니다. stock_selection.py 파일을 동일한 폴더에 저장하신 후에, 아래와 같이 import 를 해 봅니다. 그리고 다시 함수를 호출해서 2022년 4월 1일 추천종목을 확인해 봅니다. 이상없이 함수가 호출되는 것을 확인했습니다."
   ]
  },
  {
   "cell_type": "code",
   "execution_count": 7,
   "id": "589a77d8-e94f-47b6-ae60-20e877b41d85",
   "metadata": {},
   "outputs": [
    {
     "name": "stdout",
     "output_type": "stream",
     "text": [
      "2021-12-22 00:00:00 2022-04-01\n",
      "[*********************100%***********************]  1 of 1 completed\n",
      "203\n"
     ]
    },
    {
     "data": {
      "text/html": [
       "<style type=\"text/css\">\n",
       "</style>\n",
       "<table id=\"T_13b7a_\" style=\"font-size: 12px\">\n",
       "  <thead>\n",
       "    <tr>\n",
       "      <th class=\"blank level0\" >&nbsp;</th>\n",
       "      <th class=\"col_heading level0 col0\" >name</th>\n",
       "      <th class=\"col_heading level0 col1\" >yhat</th>\n",
       "      <th class=\"col_heading level0 col2\" >close</th>\n",
       "    </tr>\n",
       "    <tr>\n",
       "      <th class=\"index_name level0\" >code</th>\n",
       "      <th class=\"blank col0\" >&nbsp;</th>\n",
       "      <th class=\"blank col1\" >&nbsp;</th>\n",
       "      <th class=\"blank col2\" >&nbsp;</th>\n",
       "    </tr>\n",
       "  </thead>\n",
       "  <tbody>\n",
       "    <tr>\n",
       "      <th id=\"T_13b7a_level0_row0\" class=\"row_heading level0 row0\" >056090</th>\n",
       "      <td id=\"T_13b7a_row0_col0\" class=\"data row0 col0\" >에디슨INNO</td>\n",
       "      <td id=\"T_13b7a_row0_col1\" class=\"data row0 col1\" >0.540</td>\n",
       "      <td id=\"T_13b7a_row0_col2\" class=\"data row0 col2\" >2560</td>\n",
       "    </tr>\n",
       "    <tr>\n",
       "      <th id=\"T_13b7a_level0_row1\" class=\"row_heading level0 row1\" >024740</th>\n",
       "      <td id=\"T_13b7a_row1_col0\" class=\"data row1 col0\" >한일단조</td>\n",
       "      <td id=\"T_13b7a_row1_col1\" class=\"data row1 col1\" >0.355</td>\n",
       "      <td id=\"T_13b7a_row1_col2\" class=\"data row1 col2\" >3185</td>\n",
       "    </tr>\n",
       "    <tr>\n",
       "      <th id=\"T_13b7a_level0_row2\" class=\"row_heading level0 row2\" >083660</th>\n",
       "      <td id=\"T_13b7a_row2_col0\" class=\"data row2 col0\" >CSA 코스믹</td>\n",
       "      <td id=\"T_13b7a_row2_col1\" class=\"data row2 col1\" >0.351</td>\n",
       "      <td id=\"T_13b7a_row2_col2\" class=\"data row2 col2\" >2080</td>\n",
       "    </tr>\n",
       "    <tr>\n",
       "      <th id=\"T_13b7a_level0_row3\" class=\"row_heading level0 row3\" >122690</th>\n",
       "      <td id=\"T_13b7a_row3_col0\" class=\"data row3 col0\" >서진오토모티브</td>\n",
       "      <td id=\"T_13b7a_row3_col1\" class=\"data row3 col1\" >0.314</td>\n",
       "      <td id=\"T_13b7a_row3_col2\" class=\"data row3 col2\" >3350</td>\n",
       "    </tr>\n",
       "    <tr>\n",
       "      <th id=\"T_13b7a_level0_row4\" class=\"row_heading level0 row4\" >174880</th>\n",
       "      <td id=\"T_13b7a_row4_col0\" class=\"data row4 col0\" >장원테크</td>\n",
       "      <td id=\"T_13b7a_row4_col1\" class=\"data row4 col1\" >0.305</td>\n",
       "      <td id=\"T_13b7a_row4_col2\" class=\"data row4 col2\" >1990</td>\n",
       "    </tr>\n",
       "  </tbody>\n",
       "</table>\n"
      ],
      "text/plain": [
       "<pandas.io.formats.style.Styler at 0x1e514e403d0>"
      ]
     },
     "execution_count": 7,
     "metadata": {},
     "output_type": "execute_result"
    }
   ],
   "source": [
    "import stock_selection\n",
    "stock_selection.select_stocks('2022-04-01').style.set_table_attributes('style=\"font-size: 12px\"').format(precision=3)"
   ]
  },
  {
   "cell_type": "markdown",
   "id": "104a2fd2-fac6-499d-9f23-bff82a5c6609",
   "metadata": {},
   "source": [
    "<br></br>이제 main.py 파이썬 파일을 만들겠습니다. main.py 에서는 종목을 추천하는 함수(select_stock)가 있는 stock_selection.py 를 import 하고, 웹앱을 만들어주는 streamlit 도 import 할 것입니다. stock_selection 모듈은 이미 만들었으므로 streamlit 를 설치 후 import 하면 됩니다. 아래와 같이 streamlit 을 설치합니다. (참고 링크 https://anaconda.org/conda-forge/streamlit). 설치를 위해서 먼저 아나콘다 Prompt 을 실행합니다. streamlit 은 pip install streamlit 로도 설치가 가능합니다만, 아나콘다에서 배포하는 패키지를 우선적으로 설치하는 것이 좋습니다. 아래 그림과 타이핑한 후 'Enter' 를 누르시면 자동으로 설치가 됩니다. 참고로 이 책에서는 가상환경에 대하여는 다루지 않도록 하겠습니다. 가상환경이란 프로젝트별로 필요한 파이썬 패키지를 간섭없이 쓸 수 있게 해 줍니다. 이 웹앱 프로젝트는 streamlit 가 필요하지만, 다른 프로젝트는 streamlit 이 필요하지 않을 수 있습니다. 따라서 가상환경을 만들고 가상환경에서 패키지를 설치함으로써 프로젝트 사이에 서로 간섭이 없도록 하는 것이 가장 큰 목적입니다. "
   ]
  },
  {
   "cell_type": "markdown",
   "id": "54ef3434-69ca-440a-aebb-49900d9df9c4",
   "metadata": {},
   "source": [
    "<!-- <img src=\"./images/Install_Streamlit.PNG\" width=\"800\" height=\"150\"></img>  -->\n",
    "![GET_IMAGE](./images/Install_Streamlit.PNG)"
   ]
  },
  {
   "cell_type": "markdown",
   "id": "7ad9045e-eb54-489f-bb04-552b568697fa",
   "metadata": {},
   "source": [
    "<br></br>\n",
    "이제는 웹앱을 만들 준비가 끝났습니다. 주피터노트북은 셀 단위 명령을 실행함으로써 결과를 빠르게 확인하고 다음 단계로 넘어가는 장점이 있었습니다. 따라서 데이터를 여러 관점으로 분석해야 하는 데이터분석가에게 안성맞춤입니다. 하지만, 큰 프로그램을 웹 브러우저 상에서 실행하는 것은 안정성 면에서 문제가 있습니다. 예를 들어 프로그램이 실행되고 있는 웹브라우저가 죽으면 프로그램도 따라서 정지하게 됩니다. 주피터노트북 상에서는 데이터분석과 모델링을 하고, 만들어진 프로그램의 실행은 PyCharm 이나 Vscode 등의 에디터를 이용을 추천드립니다. main.py 가 있는 폴더에 'gam.pkl', 'kosdaq_list.pkl', 'stock_selection.py' 파일을 저장합니다. 'gam..pkl' 은 예측모델이 저장된 파일이고, 'kosdaq_list.pkl' 은 코스닥 종목 리스트가 있는 파일이며 'stock_selection.py' 은 종목 추천 알고리즘이 저장되 파일입니다. main.py 를 PyCharm 에서 아래와 실행합니다. 참고로 requirements.txt 는 현재 로컬에서 작업하고 있는 환경을 다른 곳에 복사하기 위한 라이브러리 정보가 담긴 파일입니다. 로컬에서 웹앱을 테스트하는 데 필요하지는 않습니다. requirements.txt 파일의 용도에 대하여는 나중에 설명드리도록 하겠습니다. "
   ]
  },
  {
   "cell_type": "markdown",
   "id": "bb8ea88b-b7cc-4d0c-a68f-50a7cde697ad",
   "metadata": {},
   "source": [
    "![GET_IMAGE](./images/Streamlit_Run.PNG)"
   ]
  },
  {
   "cell_type": "markdown",
   "id": "c36eeb2b-913e-4ec0-b63d-acf0c8d5329e",
   "metadata": {},
   "source": [
    "<br></br>\n",
    "위 코드를 실행하면 새로운 브라우저가 뜨면서 아래와 같은 창이 생깁니다. 아래 박스에 'YYYY-MM-DD' 형식으로 날짜를 입력하고 엔터를 치면 프로그램을 실행합니다. 2022-04-01 를 넣어보겠습니다."
   ]
  },
  {
   "cell_type": "markdown",
   "id": "ebee8066-1c9c-47f1-a742-c083b957c92e",
   "metadata": {},
   "source": [
    "<!-- <img src=\"./images/Streamlit_Results.PNG\" width=\"800\" height=\"500\"></img> -->\n",
    "![GET_IMAGE](./images/Streamlit_Results.PNG)"
   ]
  },
  {
   "cell_type": "markdown",
   "id": "8a1ec757-a45d-49df-b7fb-78721cef3764",
   "metadata": {
    "tags": []
   },
   "source": [
    "<br></br>\n",
    "약 15분 후에 아래와 같은 결과값을 볼 수 있습니다. 로컬 호스트에서 잘 작동하는 지 확인합니다. 아래 5 종목만 추천된 이유는 main.py 의 마지막 라인에서 \n",
    "\n",
    "```python\n",
    "  st.write(results.sort_values(by='yhat', ascending=False).head(5))\n",
    "```\n",
    "head(5) 로 스코어(yhat) 가 높은 5 개 종목만 제시하도록 했기 때문입니다."
   ]
  },
  {
   "cell_type": "markdown",
   "id": "582f1bc9-8559-43f4-895b-e39f101c5bee",
   "metadata": {},
   "source": [
    "<!-- <img src=\"./images/Streamlit_Results_Stocks.PNG\" width=\"800\" height=\"500\"></img> -->\n",
    "![GET_IMAGE](./images/Streamlit_Results_Stocks.PNG)"
   ]
  },
  {
   "cell_type": "code",
   "execution_count": null,
   "id": "608bc9af-ed8a-4216-bbcc-01370abc0a34",
   "metadata": {},
   "outputs": [],
   "source": []
  }
 ],
 "metadata": {
  "kernelspec": {
   "display_name": "Python 3 (ipykernel)",
   "language": "python",
   "name": "python3"
  },
  "language_info": {
   "codemirror_mode": {
    "name": "ipython",
    "version": 3
   },
   "file_extension": ".py",
   "mimetype": "text/x-python",
   "name": "python",
   "nbconvert_exporter": "python",
   "pygments_lexer": "ipython3",
   "version": "3.9.7"
  }
 },
 "nbformat": 4,
 "nbformat_minor": 5
}