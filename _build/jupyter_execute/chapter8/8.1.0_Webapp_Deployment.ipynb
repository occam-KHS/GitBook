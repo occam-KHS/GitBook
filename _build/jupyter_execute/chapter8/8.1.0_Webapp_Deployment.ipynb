{
 "cells": [
  {
   "cell_type": "code",
   "execution_count": null,
   "id": "f01fecb3-9947-4954-90ec-6301e6e50168",
   "metadata": {},
   "outputs": [],
   "source": [
    "로컬 환경에서 잘동하는 것을 확인했습니다. 이제 streamlit 에서 제공하는 호스트을 이용하여 웹앱을 배포해 보겠습니다. \n",
    "https://share.streamlit.io . 아래 5 종목만 추천된 이유는 main.py 의 마지막 라인에서 \n"
   ]
  }
 ],
 "metadata": {
  "kernelspec": {
   "display_name": "Python 3 (ipykernel)",
   "language": "python",
   "name": "python3"
  },
  "language_info": {
   "codemirror_mode": {
    "name": "ipython",
    "version": 3
   },
   "file_extension": ".py",
   "mimetype": "text/x-python",
   "name": "python",
   "nbconvert_exporter": "python",
   "pygments_lexer": "ipython3",
   "version": "3.9.7"
  }
 },
 "nbformat": 4,
 "nbformat_minor": 5
}