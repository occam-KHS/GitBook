{
 "cells": [
  {
   "cell_type": "markdown",
   "id": "76206328-a992-437e-9437-85ba9a5c0fbc",
   "metadata": {},
   "source": [
    "### **WebApp을 배포하자**"
   ]
  },
  {
   "cell_type": "markdown",
   "id": "f5d6640b-7d5d-4dfd-8385-cef5a46ab9bd",
   "metadata": {},
   "source": [
    "로컬 환경에서 잘동하는 것을 확인했습니다. 이제 streamlit 에서 제공하는 호스팅을 이용하여 웹앱을 배포해 보겠습니다. 아래와 같은 순서대로 진행하면 됩니다.\n",
    "\n",
    "1. requirements.txt 파일을 추가합니다 \n",
    "2. 만들어진 WebApp 를 Github 에 Push 합니다.\n",
    "3. https://share.streamlit.io  와 본인의 github repository 를 연결하고 배포합니다.\n"
   ]
  },
  {
   "cell_type": "markdown",
   "id": "46e5e6fe-78be-47ab-a928-d196e3338fa7",
   "metadata": {},
   "source": [
    "- ### 'requirements.txt' 파일 만들기\n",
    "\n",
    "아나콘다 프롬프트에서 아래와 같이 명령어를 주면 'requirements.txt' 파일이 생성됩니다. 'requirements.txt' 는 Webapp 이 동작하기 위한 모든 라이브러리와 버전 정보가 있습니다."
   ]
  },
  {
   "cell_type": "markdown",
   "id": "79ce1f30-1dcc-4d0f-8acc-5297938e7379",
   "metadata": {},
   "source": [
    "![GET_IMAGE](images/requirements_Streamlit.PNG)"
   ]
  },
  {
   "cell_type": "markdown",
   "id": "7e127605-2446-4d89-850a-980b77d004d7",
   "metadata": {},
   "source": [
    "<br>\n",
    "'requirements.txt' 을 열어서 보면 아래와 같습니다.  이 파일을 main.py 가 있는 폴더에 넣어줍니다. Streamlit 에 Webapp 를 배포하는 과정에 아래 버전이 존재하지 않아 에러가 나는 경우가 있습니다. 이때는 '== 버전' 제거하고 다시 진행을 합니다."
   ]
  },
  {
   "cell_type": "markdown",
   "id": "1c5cc167-03c1-4d46-a073-f50f979bbfbf",
   "metadata": {},
   "source": [
    "![GET_IMAGE](images/requirements_file.PNG)"
   ]
  },
  {
   "cell_type": "markdown",
   "id": "a4e990f9-1538-4f51-89ba-8b984cd35b3a",
   "metadata": {},
   "source": [
    "- ### Github 에 Push 하기"
   ]
  },
  {
   "cell_type": "markdown",
   "id": "0f2f4b57-867f-451e-b276-d7d408cd9963",
   "metadata": {},
   "source": [
    "아래와 같이 'requirements.txt' 파일을 작업폴더에 복사하고 github 에 push 합니다."
   ]
  },
  {
   "cell_type": "markdown",
   "id": "389e140a-e614-4380-92a7-4a9a6f9f13c8",
   "metadata": {},
   "source": [
    "![GET_IMAGE](images/git_push.PNG)"
   ]
  },
  {
   "cell_type": "markdown",
   "id": "1d8e754d-5720-431c-8c5d-3caf3afea34b",
   "metadata": {},
   "source": [
    "- ### https://share.streamlit.io 에서 배포하기"
   ]
  },
  {
   "cell_type": "markdown",
   "id": "a6ad7e12-02ea-4c2c-8069-94c7fa3edf32",
   "metadata": {},
   "source": [
    "share.streamlit.io 에서 github Repository 와 연결한 후, 아래와 같이 Branch 이름과 파이썬 파일을 지정해줍니다. 그리고 Deploy 버튼을 누르면 Webapp 이 만들어 집니다."
   ]
  },
  {
   "cell_type": "markdown",
   "id": "5bac8102-ed76-42dc-805b-18edfb26dfac",
   "metadata": {},
   "source": [
    "![GET_IMAGE](images/deploy_app.PNG)"
   ]
  },
  {
   "cell_type": "markdown",
   "id": "8aa7d1fb-b491-43bd-bdcf-e860ec164365",
   "metadata": {},
   "source": [
    "![GET_IMAGE](images/webapp_launch.PNG)"
   ]
  },
  {
   "cell_type": "code",
   "execution_count": null,
   "id": "02249fb4-89b8-41f4-bd2c-6d006321bc62",
   "metadata": {},
   "outputs": [],
   "source": []
  }
 ],
 "metadata": {
  "kernelspec": {
   "display_name": "Python 3 (ipykernel)",
   "language": "python",
   "name": "python3"
  },
  "language_info": {
   "codemirror_mode": {
    "name": "ipython",
    "version": 3
   },
   "file_extension": ".py",
   "mimetype": "text/x-python",
   "name": "python",
   "nbconvert_exporter": "python",
   "pygments_lexer": "ipython3",
   "version": "3.9.7"
  }
 },
 "nbformat": 4,
 "nbformat_minor": 5
}