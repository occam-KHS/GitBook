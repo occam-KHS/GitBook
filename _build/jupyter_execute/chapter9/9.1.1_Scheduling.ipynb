{
 "cells": [
  {
   "cell_type": "markdown",
   "id": "319a00e1-0ad7-4180-878c-20665ae66899",
   "metadata": {},
   "source": [
    "### 윈도우즈 스케줄러\n",
    "\n",
    "오전 9시에 파이썬 프로그램이 자동으로 실행이 되게 윈도우즈 스케줄링 해 보겠습니다. 우선 실행창에 아래와 같이 타이핑하여 스케줄러를 오픈합니다. "
   ]
  },
  {
   "cell_type": "markdown",
   "id": "7350de3c-d0ec-42f5-851a-95368d7ee1bc",
   "metadata": {},
   "source": [
    "![GET_IMAGE](images/cmd_window.PNG)"
   ]
  },
  {
   "cell_type": "markdown",
   "id": "e6991c65-f9fd-4410-9734-30f4ca196313",
   "metadata": {},
   "source": [
    "![GET_IMAGE](images/scheduler.PNG)"
   ]
  },
  {
   "cell_type": "markdown",
   "id": "26121986-8630-46fd-83da-5808a00255e0",
   "metadata": {},
   "source": [
    "오른쪽 '작업만들기' 버튼을 클릭하여 새로운 작업을 생성합니다. 간단하 이름과 설명을 넣어주고 마지막에 '가장 높은 수준의 권한으로 실행' 을 체크합니다. 이제 '트리거'와 '동작'을 설정하면 됩니다. "
   ]
  },
  {
   "cell_type": "markdown",
   "id": "bbfb5fae-f4d0-43e9-9f5c-19fbedf00250",
   "metadata": {},
   "source": [
    "![GET_IMAGE](images/new_task.PNG)"
   ]
  },
  {
   "cell_type": "markdown",
   "id": "df1b8023-2478-4711-b9fa-3f361c1366ae",
   "metadata": {},
   "source": [
    "'트리거' 탭에서 [새로만들기]로 들어가 작업 설정을 해 줍니다. 매주에서 월요일부터 금요일까지 선택을 하고, 시작시간을 9시00분으로 설정해줍니다."
   ]
  },
  {
   "cell_type": "markdown",
   "id": "60ceb1ef-bb5d-45ed-9309-ba6fd1a3078d",
   "metadata": {},
   "source": [
    "![GET_IMAGE](images/Trigger.PNG)"
   ]
  },
  {
   "cell_type": "markdown",
   "id": "6092e93b-c982-4095-8e31-e9caffc357fe",
   "metadata": {},
   "source": [
    "그 다음 동작탭으로 가서 파이썬 실행파일 위치를 지정해줍니다. '프로그램/스크립트' 칸에는 우리가 사용할 python.exe 의 위치, '인수 추가' 칸에는 작성한 실행코드 파일, 마지막으로 시작 위치는 '작성한 파이썬 코드'의 위치를 넣어줍니다. 이제 스케줄링이 끝났습니다. 매주 월요일부터 금요일까지 9시에 파이썬 코드가 자동으로 실행됩니다. "
   ]
  },
  {
   "cell_type": "markdown",
   "id": "6e430840-cce6-4b69-a43c-f2e43318703b",
   "metadata": {},
   "source": [
    "![GET_IMAGE](images/Action.PNG)"
   ]
  },
  {
   "cell_type": "code",
   "execution_count": null,
   "id": "8e0a24b8-c7f1-40a5-b5c0-aeb3caab0746",
   "metadata": {},
   "outputs": [],
   "source": []
  }
 ],
 "metadata": {
  "kernelspec": {
   "display_name": "Python 3 (ipykernel)",
   "language": "python",
   "name": "python3"
  },
  "language_info": {
   "codemirror_mode": {
    "name": "ipython",
    "version": 3
   },
   "file_extension": ".py",
   "mimetype": "text/x-python",
   "name": "python",
   "nbconvert_exporter": "python",
   "pygments_lexer": "ipython3",
   "version": "3.9.7"
  }
 },
 "nbformat": 4,
 "nbformat_minor": 5
}