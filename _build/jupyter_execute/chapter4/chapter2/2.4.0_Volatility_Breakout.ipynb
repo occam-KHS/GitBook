{
 "cells": [
  {
   "cell_type": "markdown",
   "id": "f27bd8f7-44f5-414f-a741-94ad2c8abd0c",
   "metadata": {},
   "source": [
    "### **변동성 돌파전략 구현**     \n",
    "\n",
    "여기까지 배운 내용을 토대로 래리윌리암스의 변동성 돌파전략을 구현해보겠습니다."
   ]
  },
  {
   "cell_type": "code",
   "execution_count": null,
   "id": "ad0de32c-bd8d-4111-a348-d3ce3aafd9d7",
   "metadata": {},
   "outputs": [],
   "source": []
  }
 ],
 "metadata": {
  "kernelspec": {
   "display_name": "Python 3 (ipykernel)",
   "language": "python",
   "name": "python3"
  },
  "language_info": {
   "codemirror_mode": {
    "name": "ipython",
    "version": 3
   },
   "file_extension": ".py",
   "mimetype": "text/x-python",
   "name": "python",
   "nbconvert_exporter": "python",
   "pygments_lexer": "ipython3",
   "version": "3.9.7"
  }
 },
 "nbformat": 4,
 "nbformat_minor": 5
}