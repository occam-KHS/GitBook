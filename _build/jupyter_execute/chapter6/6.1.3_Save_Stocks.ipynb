{
 "cells": [
  {
   "cell_type": "code",
   "execution_count": 1,
   "id": "487b4b35-9efe-40c9-954e-4027e54cf817",
   "metadata": {},
   "outputs": [],
   "source": [
    "import FinanceDataReader as fdr\n",
    "import yfinance as yf\n",
    "import matplotlib.pyplot as plt\n",
    "%matplotlib inline\n",
    "import pandas as pd\n",
    "import numpy as np\n",
    "import datetime\n",
    "import pickle"
   ]
  },
  {
   "cell_type": "markdown",
   "id": "f41ed53b-8336-4f7b-a729-fa0607963dda",
   "metadata": {
    "tags": []
   },
   "source": [
    "### **추천 종목을 파일로 저장**    "
   ]
  },
  {
   "cell_type": "markdown",
   "id": "3595e870-27e3-4b21-9d04-658f45279e02",
   "metadata": {},
   "source": [
    "<br> 알고리즘으로 추천받은 종목을 딕셔너리로 저장한 후, pickle 파일로 변환하겠습니다. 저장된 pickle 파일을 읽어서 자동매매를 진행합니다."
   ]
  },
  {
   "cell_type": "code",
   "execution_count": 35,
   "id": "9aa37f0f-9ea0-4c3d-beeb-7fff5a053dd3",
   "metadata": {},
   "outputs": [],
   "source": [
    "def select_stocks(today_dt):\n",
    "    \n",
    "    today = datetime.datetime.strptime(today_dt, '%Y-%m-%d')\n",
    "    start_dt = today - datetime.timedelta(days=100) # 100 일전 데이터 부터 시작 - 피쳐 엔지니어링은 최소 60 개의 일봉이 필요함\n",
    "    print(start_dt, today_dt)\n",
    "\n",
    "    kosdaq_list = pd.read_pickle('kosdaq_list.pkl')\n",
    "\n",
    "    price_data = pd.DataFrame()\n",
    "\n",
    "    for code, name in zip(kosdaq_list['code'], kosdaq_list['name']):  # 코스닥 모든 종목에서 대하여 반복\n",
    "        daily_price = fdr.DataReader(code, start = start_dt, end = today_dt) # 종목, 일봉, 데이터 갯수\n",
    "\n",
    "        daily_price['code'] = code\n",
    "        daily_price['name'] = name\n",
    "        price_data = pd.concat([price_data, daily_price], axis=0)   \n",
    "\n",
    "    price_data.index.name = 'date'\n",
    "    price_data.columns= price_data.columns.str.lower() # 컬럼 이름 소문자로 변경\n",
    "\n",
    "    # DataReder 코스닥 인덱스 조회 실패시, 야후파이낸스로 추출    \n",
    "    # kosdaq_index = fdr.DataReader('KQ11', start = start_dt, end = today_dt) # 데이터 호출\n",
    "    # kosdaq_index.columns = ['close','open','high','low','volume','change'] # 컬럼명 변경\n",
    "    \n",
    "    kosdaq_index =  yf.download('^KQ11', start = start_dt)\n",
    "    kosdaq_index.columns = ['open','high','low','close','adj_close','volume'] # 컬럼명 변경\n",
    "    kosdaq_index.index.name='date' # 인덱스 이름 생성\n",
    "    kosdaq_index.sort_index(inplace=True) # 인덱스(날짜) 로 정렬 \n",
    "    kosdaq_index['kosdaq_return'] = kosdaq_index['close']/kosdaq_index['close'].shift(1) # 수익율 : 전 날 종가대비 당일 종가\n",
    "\n",
    "    merged = price_data.merge(kosdaq_index['kosdaq_return'], left_index=True, right_index=True, how='left')\n",
    "\n",
    "    return_all = pd.DataFrame()\n",
    "\n",
    "    for code in kosdaq_list['code']:  \n",
    "\n",
    "        stock_return = merged[merged['code']==code].sort_index()\n",
    "        stock_return['return'] = stock_return['close']/stock_return['close'].shift(1) # 종목별 전일 종가 대비 당일 종가 수익율\n",
    "        c1 = (stock_return['kosdaq_return'] < 1) # 수익율 1 보다 작음. 당일 종가가 전일 종가보다 낮음 (코스닥 지표)\n",
    "        c2 = (stock_return['return'] > 1) # 수익율 1 보다 큼. 당일 종가가 전일 종가보다 큼 (개별 종목)\n",
    "        stock_return['win_market'] = np.where((c1&c2), 1, 0) # C1 과 C2 조건을 동시에 만족하면 1, 아니면 0\n",
    "        return_all = pd.concat([return_all, stock_return], axis=0) \n",
    "\n",
    "    return_all.dropna(inplace=True)    \n",
    "\n",
    "    model_inputs = pd.DataFrame()\n",
    "\n",
    "    for code, name, sector in zip(kosdaq_list['code'], kosdaq_list['name'], kosdaq_list['sector']):\n",
    "\n",
    "        data = return_all[return_all['code']==code].sort_index().copy()    \n",
    "\n",
    "        # 가격변동성이 크고, 거래량이 몰린 종목이 주가가 상승한다\n",
    "        data['price_mean'] = data['close'].rolling(20).mean()\n",
    "        data['price_std'] = data['close'].rolling(20).std(ddof=0)\n",
    "        data['price_z'] = (data['close'] - data['price_mean'])/data['price_std']    \n",
    "        data['volume_mean'] = data['volume'].rolling(20).mean()\n",
    "        data['volume_std'] = data['volume'].rolling(20).std(ddof=0)\n",
    "        data['volume_z'] = (data['volume'] - data['volume_mean'])/data['volume_std']\n",
    "\n",
    "        # 위꼬리가 긴 양봉이 자주발생한다.\n",
    "        data['positive_candle'] = (data['close'] > data['open']).astype(int) # 양봉\n",
    "        data['high/close'] = (data['positive_candle']==1)*(data['high']/data['close'] > 1.1).astype(int) # 양봉이면서 고가가 종가보다 높게 위치\n",
    "        data['num_high/close'] =  data['high/close'].rolling(20).sum()\n",
    "        data['long_candle'] = (data['positive_candle']==1)*(data['high']==data['close'])*\\\n",
    "        (data['low']==data['open'])*(data['close']/data['open'] > 1.2).astype(int) # 장대 양봉을 데이터로 표현\n",
    "        data['num_long'] =  data['long_candle'].rolling(60).sum() # 지난 20 일 동안 장대양봉의 갯 수\n",
    "\n",
    "\n",
    "         # 거래량이 종좀 터지며 매집의 흔적을 보인다   \n",
    "        data['volume_mean'] = data['volume'].rolling(60).mean()\n",
    "        data['volume_std'] = data['volume'].rolling(60).std()\n",
    "        data['volume_z'] = (data['volume'] - data['volume_mean'])/data['volume_std'] # 거래량은 종목과 주가에 따라 다르기 떄문에 표준화한 값이 필요함\n",
    "        data['z>1.96'] = (data['close'] > data['open'])*(data['volume_z'] > 1.65).astype(int) # 양봉이면서 거래량이 90%신뢰구간을 벗어난 날\n",
    "        data['num_z>1.96'] =  data['z>1.96'].rolling(60).sum()  # 양봉이면서 거래량이 90% 신뢰구간을 벗어난 날을 카운트\n",
    "\n",
    "        # 주가지수보다 더 좋은 수익율을 보여준다\n",
    "        data['num_win_market'] = data['win_market'].rolling(60).sum() # 주가지수 수익율이 1 보다 작을 때, 종목 수익율이 1 보다 큰 날 수\n",
    "        data['pct_win_market'] = (data['return']/data['kosdaq_return']).rolling(60).mean() # 주가지수 수익율 대비 종목 수익율\n",
    "\n",
    "\n",
    "        # 동종업체 수익률보다 더 좋은 수익율을 보여준다.           \n",
    "        data['return_mean'] = data['return'].rolling(60).mean() # 종목별 최근 60 일 수익율의 평균\n",
    "        data['sector'] = sector    \n",
    "        data['name'] = name\n",
    "\n",
    "        data = data[(data['price_std']!=0) & (data['volume_std']!=0)]    \n",
    "\n",
    "        model_inputs = pd.concat([data, model_inputs], axis=0)\n",
    "\n",
    "    model_inputs['sector_return'] = model_inputs.groupby(['sector', model_inputs.index])['return'].transform(lambda x: x.mean()) # 섹터의 평균 수익율 계산\n",
    "    model_inputs['return over sector'] = (model_inputs['return']/model_inputs['sector_return']) # 섹터 평균 수익률 대비 종목 수익률 계산\n",
    "    model_inputs.dropna(inplace=True) # Missing 값 있는 행 모두 제거\n",
    "\n",
    "\n",
    "    feature_list = ['price_z','volume_z','num_high/close','num_win_market','pct_win_market','return over sector']\n",
    "\n",
    "    X = model_inputs.loc[today_dt][['code','name','return','kosdaq_return','close'] + feature_list].set_index('code') \n",
    "\n",
    "    with open(\"gam.pkl\", \"rb\") as file:\n",
    "        gam = pickle.load(file)     \n",
    "\n",
    "    yhat = gam.predict_proba(X[feature_list])\n",
    "    X['yhat'] = yhat\n",
    "\n",
    "    tops = X[X['yhat'] >= 0.3].sort_values(by='yhat', ascending=False) # 스코어 0.3 이상 종목만 \n",
    "    print(len(tops))    \n",
    "     \n",
    "    select_tops = tops[(tops['return'] > 1.03) & (tops['price_z'] < 0)][['name','return','price_z','yhat', 'kosdaq_return','close']]  # 기본 필터링 조건   \n",
    "      \n",
    "    if len(select_tops) > 1: # 최소한 2개 종목 - 추천 리스크 분산        \n",
    "        return select_tops    \n",
    "    \n",
    "    else:\n",
    "        return None"
   ]
  },
  {
   "cell_type": "code",
   "execution_count": 28,
   "id": "1c58a042-e1fd-403f-8081-7fa8529a01df",
   "metadata": {},
   "outputs": [
    {
     "name": "stdout",
     "output_type": "stream",
     "text": [
      "2022-03-08 00:00:00 2022-06-16\n",
      "[*********************100%***********************]  1 of 1 completed\n",
      "395\n"
     ]
    }
   ],
   "source": [
    "select_tops = select_stocks('2022-06-16').sort_values(by='yhat', ascending=False).head(5)"
   ]
  },
  {
   "cell_type": "code",
   "execution_count": 30,
   "id": "c1802cf6-a990-401f-a432-ca3c022d5586",
   "metadata": {},
   "outputs": [
    {
     "data": {
      "text/html": [
       "<style type=\"text/css\">\n",
       "</style>\n",
       "<table id=\"T_81a93_\" style=\"font-size: 12px\">\n",
       "  <thead>\n",
       "    <tr>\n",
       "      <th class=\"blank level0\" >&nbsp;</th>\n",
       "      <th class=\"col_heading level0 col0\" >name</th>\n",
       "      <th class=\"col_heading level0 col1\" >return</th>\n",
       "      <th class=\"col_heading level0 col2\" >price_z</th>\n",
       "      <th class=\"col_heading level0 col3\" >yhat</th>\n",
       "      <th class=\"col_heading level0 col4\" >kosdaq_return</th>\n",
       "      <th class=\"col_heading level0 col5\" >close</th>\n",
       "    </tr>\n",
       "    <tr>\n",
       "      <th class=\"index_name level0\" >code</th>\n",
       "      <th class=\"blank col0\" >&nbsp;</th>\n",
       "      <th class=\"blank col1\" >&nbsp;</th>\n",
       "      <th class=\"blank col2\" >&nbsp;</th>\n",
       "      <th class=\"blank col3\" >&nbsp;</th>\n",
       "      <th class=\"blank col4\" >&nbsp;</th>\n",
       "      <th class=\"blank col5\" >&nbsp;</th>\n",
       "    </tr>\n",
       "  </thead>\n",
       "  <tbody>\n",
       "    <tr>\n",
       "      <th id=\"T_81a93_level0_row0\" class=\"row_heading level0 row0\" >002680</th>\n",
       "      <td id=\"T_81a93_row0_col0\" class=\"data row0 col0\" >한탑</td>\n",
       "      <td id=\"T_81a93_row0_col1\" class=\"data row0 col1\" >1.031</td>\n",
       "      <td id=\"T_81a93_row0_col2\" class=\"data row0 col2\" >-1.282</td>\n",
       "      <td id=\"T_81a93_row0_col3\" class=\"data row0 col3\" >0.457</td>\n",
       "      <td id=\"T_81a93_row0_col4\" class=\"data row0 col4\" >1.003</td>\n",
       "      <td id=\"T_81a93_row0_col5\" class=\"data row0 col5\" >3155</td>\n",
       "    </tr>\n",
       "    <tr>\n",
       "      <th id=\"T_81a93_level0_row1\" class=\"row_heading level0 row1\" >177350</th>\n",
       "      <td id=\"T_81a93_row1_col0\" class=\"data row1 col0\" >베셀</td>\n",
       "      <td id=\"T_81a93_row1_col1\" class=\"data row1 col1\" >1.052</td>\n",
       "      <td id=\"T_81a93_row1_col2\" class=\"data row1 col2\" >-1.346</td>\n",
       "      <td id=\"T_81a93_row1_col3\" class=\"data row1 col3\" >0.413</td>\n",
       "      <td id=\"T_81a93_row1_col4\" class=\"data row1 col4\" >1.003</td>\n",
       "      <td id=\"T_81a93_row1_col5\" class=\"data row1 col5\" >7630</td>\n",
       "    </tr>\n",
       "    <tr>\n",
       "      <th id=\"T_81a93_level0_row2\" class=\"row_heading level0 row2\" >312610</th>\n",
       "      <td id=\"T_81a93_row2_col0\" class=\"data row2 col0\" >에이에프더블류</td>\n",
       "      <td id=\"T_81a93_row2_col1\" class=\"data row2 col1\" >1.035</td>\n",
       "      <td id=\"T_81a93_row2_col2\" class=\"data row2 col2\" >-1.967</td>\n",
       "      <td id=\"T_81a93_row2_col3\" class=\"data row2 col3\" >0.397</td>\n",
       "      <td id=\"T_81a93_row2_col4\" class=\"data row2 col4\" >1.003</td>\n",
       "      <td id=\"T_81a93_row2_col5\" class=\"data row2 col5\" >3505</td>\n",
       "    </tr>\n",
       "    <tr>\n",
       "      <th id=\"T_81a93_level0_row3\" class=\"row_heading level0 row3\" >096870</th>\n",
       "      <td id=\"T_81a93_row3_col0\" class=\"data row3 col0\" >엘디티</td>\n",
       "      <td id=\"T_81a93_row3_col1\" class=\"data row3 col1\" >1.082</td>\n",
       "      <td id=\"T_81a93_row3_col2\" class=\"data row3 col2\" >-1.330</td>\n",
       "      <td id=\"T_81a93_row3_col3\" class=\"data row3 col3\" >0.381</td>\n",
       "      <td id=\"T_81a93_row3_col4\" class=\"data row3 col4\" >1.003</td>\n",
       "      <td id=\"T_81a93_row3_col5\" class=\"data row3 col5\" >4145</td>\n",
       "    </tr>\n",
       "    <tr>\n",
       "      <th id=\"T_81a93_level0_row4\" class=\"row_heading level0 row4\" >311390</th>\n",
       "      <td id=\"T_81a93_row4_col0\" class=\"data row4 col0\" >네오크레마</td>\n",
       "      <td id=\"T_81a93_row4_col1\" class=\"data row4 col1\" >1.076</td>\n",
       "      <td id=\"T_81a93_row4_col2\" class=\"data row4 col2\" >-2.141</td>\n",
       "      <td id=\"T_81a93_row4_col3\" class=\"data row4 col3\" >0.377</td>\n",
       "      <td id=\"T_81a93_row4_col4\" class=\"data row4 col4\" >1.003</td>\n",
       "      <td id=\"T_81a93_row4_col5\" class=\"data row4 col5\" >13450</td>\n",
       "    </tr>\n",
       "  </tbody>\n",
       "</table>\n"
      ],
      "text/plain": [
       "<pandas.io.formats.style.Styler at 0x19d6e509040>"
      ]
     },
     "execution_count": 30,
     "metadata": {},
     "output_type": "execute_result"
    }
   ],
   "source": [
    "select_tops.style.set_table_attributes('style=\"font-size: 12px\"').format(precision=3)"
   ]
  },
  {
   "cell_type": "code",
   "execution_count": 31,
   "id": "c036241f-0022-4c92-9162-de5ecebe94e5",
   "metadata": {},
   "outputs": [],
   "source": [
    "select_dict = {}\n",
    "for code in list(select_tops.index):\n",
    "    s = results.loc[code]\n",
    "    select_dict[code] = [s['name'], s['close']]    "
   ]
  },
  {
   "cell_type": "code",
   "execution_count": 32,
   "id": "3bb432e6-f6c9-456b-b149-922c3508b24b",
   "metadata": {},
   "outputs": [
    {
     "data": {
      "text/plain": [
       "{'002680': ['한탑', 3155],\n",
       " '177350': ['베셀', 7630],\n",
       " '312610': ['에이에프더블류', 3505],\n",
       " '096870': ['엘디티', 4145],\n",
       " '311390': ['네오크레마', 13450]}"
      ]
     },
     "execution_count": 32,
     "metadata": {},
     "output_type": "execute_result"
    }
   ],
   "source": [
    "select_dict # 결과 확인"
   ]
  },
  {
   "cell_type": "markdown",
   "id": "d208d614-61cd-4020-b7c5-ea7c6de00eca",
   "metadata": {},
   "source": [
    "<br> pickle 파일로 딕셔너리를 저장합니다."
   ]
  },
  {
   "cell_type": "code",
   "execution_count": 33,
   "id": "966779d2-9970-4a92-aa64-050cd6710030",
   "metadata": {},
   "outputs": [],
   "source": [
    "# 피클파일로 저장\n",
    "f = open(\"select_dict.pkl\",\"wb\")\n",
    "pickle.dump(select_dict, f)\n",
    "f.close()"
   ]
  },
  {
   "cell_type": "markdown",
   "id": "2a2efd5d-514e-409a-b60d-01183f4d4078",
   "metadata": {},
   "source": [
    "저장된 피클 파일을 Load 후 원본 디셔너리 파일과 동일한지 확인해 봅니다."
   ]
  },
  {
   "cell_type": "code",
   "execution_count": 34,
   "id": "a20e5f5e-7bb3-470b-9443-dafdcd4fb942",
   "metadata": {},
   "outputs": [
    {
     "data": {
      "text/plain": [
       "{'002680': ['한탑', 3155],\n",
       " '177350': ['베셀', 7630],\n",
       " '312610': ['에이에프더블류', 3505],\n",
       " '096870': ['엘디티', 4145],\n",
       " '311390': ['네오크레마', 13450]}"
      ]
     },
     "execution_count": 34,
     "metadata": {},
     "output_type": "execute_result"
    }
   ],
   "source": [
    "f = open(\"select_dict.pkl\",\"rb\")\n",
    "select_dict = pickle.load(f)\n",
    "f.close\n",
    "\n",
    "# 결과 확인\n",
    "select_dict"
   ]
  }
 ],
 "metadata": {
  "kernelspec": {
   "display_name": "Python 3 (ipykernel)",
   "language": "python",
   "name": "python3"
  },
  "language_info": {
   "codemirror_mode": {
    "name": "ipython",
    "version": 3
   },
   "file_extension": ".py",
   "mimetype": "text/x-python",
   "name": "python",
   "nbconvert_exporter": "python",
   "pygments_lexer": "ipython3",
   "version": "3.9.7"
  }
 },
 "nbformat": 4,
 "nbformat_minor": 5
}