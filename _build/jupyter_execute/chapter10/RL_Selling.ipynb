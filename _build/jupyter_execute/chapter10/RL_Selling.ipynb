{
 "cells": [
  {
   "cell_type": "code",
   "execution_count": 34,
   "id": "9ab8ebd5-49f1-4287-83d2-b95e829077cb",
   "metadata": {},
   "outputs": [
    {
     "name": "stdout",
     "output_type": "stream",
     "text": [
      "n_episode :50, score : 10.0, n_buffer : 500, eps : 7.8%\n",
      "n_episode :100, score : 9.4, n_buffer : 972, eps : 7.5%\n",
      "n_episode :150, score : 9.6, n_buffer : 1452, eps : 7.3%\n",
      "n_episode :200, score : 9.8, n_buffer : 1944, eps : 7.0%\n",
      "n_episode :250, score : 9.8, n_buffer : 2432, eps : 6.8%\n",
      "n_episode :300, score : 10.2, n_buffer : 2940, eps : 6.5%\n",
      "n_episode :350, score : 10.6, n_buffer : 3469, eps : 6.2%\n",
      "n_episode :400, score : 38.5, n_buffer : 5392, eps : 6.0%\n",
      "n_episode :450, score : 112.6, n_buffer : 11024, eps : 5.8%\n",
      "n_episode :500, score : 162.1, n_buffer : 19128, eps : 5.5%\n",
      "n_episode :550, score : 171.8, n_buffer : 27717, eps : 5.3%\n",
      "n_episode :600, score : 290.2, n_buffer : 30000, eps : 5.0%\n",
      "n_episode :650, score : 239.1, n_buffer : 30000, eps : 4.8%\n",
      "n_episode :700, score : 16022.0, n_buffer : 30000, eps : 4.5%\n"
     ]
    }
   ],
   "source": [
    "import gym\n",
    "import collections\n",
    "import random\n",
    "\n",
    "import torch\n",
    "import torch.nn as nn\n",
    "import torch.nn.functional as F\n",
    "import torch.optim as optim\n",
    "\n",
    "#Hyperparameters\n",
    "learning_rate = 0.0001\n",
    "gamma         = 0.98\n",
    "buffer_limit  = 30000\n",
    "batch_size    = 32\n",
    "\n",
    "class ReplayBuffer():\n",
    "    def __init__(self):\n",
    "        self.buffer = collections.deque(maxlen=buffer_limit)\n",
    "    \n",
    "    def put(self, transition):\n",
    "        self.buffer.append(transition)\n",
    "    \n",
    "    def sample(self, n): # 버퍼에서 샘플링\n",
    "        mini_batch = random.sample(self.buffer, n)\n",
    "        s_lst, a_lst, r_lst, s_prime_lst, done_mask_lst = [], [], [], [], []\n",
    "        \n",
    "        for transition in mini_batch:\n",
    "            s, a, r, s_prime, done_mask = transition\n",
    "            s_lst.append(s)\n",
    "            a_lst.append([a])\n",
    "            r_lst.append([r])\n",
    "            s_prime_lst.append(s_prime)\n",
    "            done_mask_lst.append([done_mask])\n",
    "\n",
    "        return torch.tensor(s_lst, dtype=torch.float), torch.tensor(a_lst), \\\n",
    "               torch.tensor(r_lst), torch.tensor(s_prime_lst, dtype=torch.float), \\\n",
    "               torch.tensor(done_mask_lst)\n",
    "    \n",
    "    def size(self):\n",
    "        return len(self.buffer)\n",
    "\n",
    "class Qnet(nn.Module):\n",
    "    def __init__(self):\n",
    "        super(Qnet, self).__init__()\n",
    "        self.fc1 = nn.Linear(4, 64)\n",
    "        self.fc2 = nn.Linear(64, 32)\n",
    "        self.fc3 = nn.Linear(32, 2)\n",
    "\n",
    "    def forward(self, x): # Q Value 리턴 (음수가 될 수 도 있음)\n",
    "        x = F.relu(self.fc1(x))\n",
    "        x = F.relu(self.fc2(x))\n",
    "        x = self.fc3(x)\n",
    "        return x\n",
    "      \n",
    "    def sample_action(self, obs, epsilon):\n",
    "        out = self.forward(obs)\n",
    "        coin = random.random() # 0 ~ 1 \n",
    "        if coin < epsilon:\n",
    "            return random.randint(0, 1)\n",
    "        else : \n",
    "            return out.argmax().item()\n",
    "            \n",
    "def train(q, q_target, memory, optimizer):\n",
    "    for i in range(10):\n",
    "        s, a, r, s_prime, done_mask = memory.sample(batch_size)\n",
    "        q_out = q(s) # input size (32,4) return size (32,2)\n",
    "        q_a = q_out.gather(1, a) # 취한 액션의 큐값만 골라냄 (32,1)\n",
    "        max_q_prime = q_target(s_prime).max(1)[0].unsqueeze(1)\n",
    "        target = r + gamma * max_q_prime * done_mask\n",
    "        loss = F.smooth_l1_loss(q_a, target)\n",
    "        \n",
    "        optimizer.zero_grad()\n",
    "        loss.backward()\n",
    "        optimizer.step()\n",
    "\n",
    "\n",
    "env = gym.make('CartPole-v1')\n",
    "q = Qnet()\n",
    "q_target = Qnet()\n",
    "q_target.load_state_dict(q.state_dict()) # Copy network weights\n",
    "memory = ReplayBuffer()\n",
    "\n",
    "print_interval = 50\n",
    "score = 0.0  \n",
    "optimizer = optim.Adam(q.parameters(), lr=learning_rate) # q_target 은 업데이트 안 함!\n",
    "\n",
    "for n_epi in range(1000):\n",
    "    epsilon = max(0.01, 0.08 - 0.01*(n_epi/200)) #Linear annealing from 8% to 1%. 에피소드 증가하면 입실로 작아짐\n",
    "    s = env.reset()[0]\n",
    "    done = False\n",
    "\n",
    "    while not done:\n",
    "        a = q.sample_action(torch.from_numpy(s).float(), epsilon)      \n",
    "        s_prime, r, done, _ ,info = env.step(a)\n",
    "        done_mask = 0.0 if done else 1.0\n",
    "        memory.put((s, a, r/100.0, s_prime, done_mask))\n",
    "        s = s_prime\n",
    "\n",
    "        score += r\n",
    "        if done:\n",
    "            break\n",
    "\n",
    "    if memory.size()>2000:\n",
    "        train(q, q_target, memory, optimizer)\n",
    "\n",
    "    if n_epi%print_interval==0 and n_epi!=0:\n",
    "        q_target.load_state_dict(q.state_dict()) # 타겟 네트워크 업데이트 (20 번 에피소드 마다)\n",
    "        print(\"n_episode :{}, score : {:.1f}, n_buffer : {}, eps : {:.1f}%\".format(n_epi, score/print_interval, memory.size(), epsilon*100))                \n",
    "        \n",
    "        if (score/print_interval) > 300:\n",
    "            break\n",
    "            \n",
    "        score = 0.0\n",
    "        \n",
    "env.close()"
   ]
  },
  {
   "cell_type": "code",
   "execution_count": 35,
   "id": "6eed3884-2d64-483d-b607-e125240ba7e6",
   "metadata": {},
   "outputs": [
    {
     "name": "stdout",
     "output_type": "stream",
     "text": [
      "Episode finished after 324 timesteps\n",
      "Episode finished after 441 timesteps\n",
      "Episode finished after 428 timesteps\n"
     ]
    }
   ],
   "source": [
    "import time\n",
    "env = gym.make('CartPole-v1')\n",
    "\n",
    "for i_episode in range(5):\n",
    "    observation = env.reset()[0]\n",
    "    for t in range(550):\n",
    "        time.sleep(0.01)\n",
    "        env.render()\n",
    "        action = q_target(torch.Tensor(observation)).argmax().item() \n",
    "        observation, reward, done, _, info = env.step(action)\n",
    "        if done:\n",
    "            print(\"Episode finished after {} timesteps\".format(t+1))\n",
    "            time.sleep(1)\n",
    "            break\n",
    "env.close()"
   ]
  },
  {
   "cell_type": "code",
   "execution_count": 253,
   "id": "df65364e-94dd-450c-aac3-954ea1b607b0",
   "metadata": {},
   "outputs": [],
   "source": [
    "import FinanceDataReader as fdr\n",
    "df = fdr.DataReader('056090', start='2021-01-01')"
   ]
  },
  {
   "cell_type": "code",
   "execution_count": 527,
   "id": "5c5346a9-db6b-4d92-ad9c-65fb3f7c0ead",
   "metadata": {},
   "outputs": [
    {
     "name": "stdout",
     "output_type": "stream",
     "text": [
      "0 (20, 7)\n",
      "1 (20, 7)\n",
      "2 (20, 7)\n",
      "3 (20, 7)\n",
      "4 (20, 7)\n",
      "5 (20, 7)\n",
      "6 (20, 7)\n",
      "7 (20, 7)\n",
      "8 (20, 7)\n",
      "9 (20, 7)\n",
      "10 (20, 7)\n",
      "11 (20, 7)\n",
      "12 (20, 7)\n",
      "13 (20, 7)\n",
      "14 (20, 7)\n",
      "15 (20, 7)\n",
      "16 (20, 7)\n",
      "17 (20, 7)\n",
      "18 (20, 7)\n",
      "19 (20, 7)\n",
      "20 (20, 7)\n",
      "21 (20, 7)\n",
      "22 (20, 7)\n",
      "23 (20, 7)\n",
      "24 (20, 7)\n",
      "25 (20, 7)\n",
      "26 (20, 7)\n",
      "27 (20, 7)\n",
      "28 (20, 7)\n",
      "29 (20, 7)\n"
     ]
    }
   ],
   "source": [
    "\n",
    "\n",
    "\n",
    "\n",
    "for  j in range(30):\n",
    "\n",
    "    buy_dt =  random.choice(df.index[7:-21]).strftime('%Y-%m-%d') # 매수일\n",
    "\n",
    "    def obs_data(buy_dt):\n",
    "        i = 0\n",
    "        s_list = []\n",
    "\n",
    "        for i in range(20):\n",
    "\n",
    "            end_dt = df[buy_dt:].index[5 + i].strftime('%Y-%m-%d')   # 관찰 6 일\n",
    "            action_dt = df[buy_dt:].index[6 + i].strftime('%Y-%m-%d') # 매도 일\n",
    "\n",
    "            s = df[buy_dt:end_dt].copy()\n",
    "            s['return'] = s['Close']/df.loc[buy_dt]['Close']\n",
    "            s1 = s['return'].mean()  # 관찰기간(6일) 수익율 평균\n",
    "            s2 = s['return'].max()  # 관찰기간(6일) 수익율 최대\n",
    "            s3 = s['return'].min()  # 관찰기간(6일) 수익율 최소\n",
    "            s4 = s['return'][-1]  # 관찰 기간 6일(매도 전날) 수익율\n",
    "            s5 = (s['Volume']/s['Volume'].shift(1)).loc[end_dt] # 매도 전일 거래량 변화\n",
    "            s6 = df.loc[action_dt]['Open']/df.loc[buy_dt]['Close'] # 매도 일 시가 수익율\n",
    "\n",
    "            r = df.loc[action_dt]['Close']/df.loc[buy_dt]['Close'] # 종가 매도시 수익률\n",
    "\n",
    "            s_list.append([s1, s2, s3, s4, s5, s6, r])   \n",
    "\n",
    "        return np.array(s_list)\n",
    "\n",
    "    print(j, obs_data('2022-02-22').shape)"
   ]
  },
  {
   "cell_type": "code",
   "execution_count": 478,
   "id": "d3da3bc0-b079-47c9-87ec-b3ba4dae161c",
   "metadata": {},
   "outputs": [
    {
     "data": {
      "text/plain": [
       "(20, 7)"
      ]
     },
     "execution_count": 478,
     "metadata": {},
     "output_type": "execute_result"
    }
   ],
   "source": [
    "obs_data('2022-02-22').shape"
   ]
  },
  {
   "cell_type": "code",
   "execution_count": 608,
   "id": "c2114096-1451-449c-87a2-8655a50a291f",
   "metadata": {},
   "outputs": [],
   "source": [
    "import FinanceDataReader as fdr\n",
    "df = fdr.DataReader('005930', start='2019-01-01')\n",
    "\n",
    "class Stock:\n",
    "    \n",
    "    def __init__(self, df):\n",
    "        self.actions = [0, 1]\n",
    "        self.count = 0        \n",
    "        self.sample_data = df\n",
    "        self.buy_dt = '2021-01-01'\n",
    "        \n",
    "    def collect_data(self, buy_dt):\n",
    "\n",
    "        i = 0\n",
    "        s_list = []\n",
    "\n",
    "        for i in range(20):\n",
    "\n",
    "            end_dt = df[buy_dt:].index[5 + i].strftime('%Y-%m-%d')   # 관찰 6 일\n",
    "            action_dt = df[buy_dt:].index[6 + i].strftime('%Y-%m-%d') # 매도 일\n",
    "\n",
    "            s = df[buy_dt:end_dt].copy()\n",
    "            s['return'] = s['Close']/df.loc[buy_dt]['Close']\n",
    "            s1 = s['return'].mean()  # 관찰기간(6일) 수익율 평균\n",
    "            s2 = s['return'].max()  # 관찰기간(6일) 수익율 최대\n",
    "            s3 = s['return'].min()  # 관찰기간(6일) 수익율 최소\n",
    "            s4 = s['return'][-1]  # 관찰 기간 6일(매도 전날) 수익율\n",
    "            s5 = (s['Volume']/s['Volume'].shift(1)).loc[end_dt] # 매도 전일 거래량 변화\n",
    "            s6 = df.loc[action_dt]['Open']/df.loc[buy_dt]['Close'] # 매도 일 시가 수익율\n",
    "            r = df.loc[action_dt]['Close']/df.loc[buy_dt]['Close'] # 종가 매도시 수익률\n",
    "\n",
    "            s_list.append([s1, s2, s3, s4, s5, s6, r])   \n",
    "\n",
    "        return np.array(s_list)     \n",
    "    \n",
    "    def reset(self):         \n",
    "        self.buy_dt = random.choice(df.index[10:-30]).strftime('%Y-%m-%d') # 관찰기간 매도 기간 확보\n",
    "        self.state = collect_data(self.buy_dt)        \n",
    "        return np.delete(self.state, 6, axis=1)  # 마지막 컬럼은 수익율 (뺴고 리턴)    \n",
    "\n",
    "    def random_action(self):\n",
    "        sample = [0, 1]\n",
    "        return random.choice(sample)  \n",
    "        \n",
    "    def step(self, action):         \n",
    "       \n",
    "        if action == 1:\n",
    "            r = (self.state[self.count][-1] > 1).astype(int) # 매도시 수익율            \n",
    "            \n",
    "        else:\n",
    "            r = 1 \n",
    "            \n",
    "        self.count += 1                \n",
    "\n",
    "        if action==0 and self.count < 19:            \n",
    "                 \n",
    "            next_state = self.state[self.count][:6]     \n",
    "            done = False\n",
    "            info = ''\n",
    "            return  next_state, r, done, info\n",
    "            \n",
    "        else:\n",
    "            next_state = self.state[self.count][:6]    \n",
    "            done = True                            \n",
    "            self.count = 0       \n",
    "            info = ''\n",
    "            return next_state, r, done, info"
   ]
  },
  {
   "cell_type": "code",
   "execution_count": 609,
   "id": "63be24f2-f4c2-4f96-90e6-26d91486b830",
   "metadata": {},
   "outputs": [
    {
     "name": "stdout",
     "output_type": "stream",
     "text": [
      "n_episode :500, score : 0.000, n_buffer : 3000, eps : 5.5%\n",
      "n_episode :1000, score : 0.000, n_buffer : 3000, eps : 3.0%\n",
      "n_episode :1500, score : 0.000, n_buffer : 3000, eps : 1.0%\n",
      "n_episode :2000, score : 0.000, n_buffer : 3000, eps : 1.0%\n",
      "n_episode :2500, score : 0.000, n_buffer : 3000, eps : 1.0%\n",
      "n_episode :3000, score : 0.000, n_buffer : 3000, eps : 1.0%\n",
      "n_episode :3500, score : 0.000, n_buffer : 3000, eps : 1.0%\n",
      "n_episode :4000, score : 0.000, n_buffer : 3000, eps : 1.0%\n",
      "n_episode :4500, score : 0.000, n_buffer : 3000, eps : 1.0%\n",
      "n_episode :5000, score : 0.000, n_buffer : 3000, eps : 1.0%\n",
      "n_episode :5500, score : 0.000, n_buffer : 3000, eps : 1.0%\n",
      "n_episode :6000, score : 0.000, n_buffer : 3000, eps : 1.0%\n",
      "n_episode :6500, score : 0.000, n_buffer : 3000, eps : 1.0%\n",
      "n_episode :7000, score : 0.000, n_buffer : 3000, eps : 1.0%\n",
      "n_episode :7500, score : 0.000, n_buffer : 3000, eps : 1.0%\n"
     ]
    }
   ],
   "source": [
    "import gym\n",
    "import collections\n",
    "import random\n",
    "\n",
    "import torch\n",
    "import torch.nn as nn\n",
    "import torch.nn.functional as F\n",
    "import torch.optim as optim\n",
    "\n",
    "#Hyperparameters\n",
    "learning_rate = 0.001\n",
    "gamma         = 0.98\n",
    "buffer_limit  = 3000\n",
    "batch_size    = 64\n",
    "\n",
    "class ReplayBuffer():\n",
    "    def __init__(self):\n",
    "        self.buffer = collections.deque(maxlen=buffer_limit)\n",
    "    \n",
    "    def put(self, transition):\n",
    "        self.buffer.append(transition)\n",
    "    \n",
    "    def sample(self, n): # 버퍼에서 샘플링\n",
    "        mini_batch = random.sample(self.buffer, n)\n",
    "        s_lst, a_lst, r_lst, s_prime_lst, done_mask_lst = [], [], [], [], []\n",
    "        \n",
    "        for transition in mini_batch:\n",
    "            s, a, r, s_prime, done_mask = transition\n",
    "            s_lst.append(s)\n",
    "            a_lst.append([a])\n",
    "            r_lst.append([r])\n",
    "            s_prime_lst.append(s_prime)\n",
    "            done_mask_lst.append([done_mask])\n",
    "\n",
    "        return torch.tensor(s_lst, dtype=torch.float), torch.tensor(a_lst), \\\n",
    "               torch.tensor(r_lst), torch.tensor(s_prime_lst, dtype=torch.float), \\\n",
    "               torch.tensor(done_mask_lst)\n",
    "    \n",
    "    def size(self):\n",
    "        return len(self.buffer)\n",
    "\n",
    "class Qnet(nn.Module):\n",
    "    def __init__(self):\n",
    "        super(Qnet, self).__init__()\n",
    "        self.fc1 = nn.Linear(6, 32)\n",
    "        self.fc2 = nn.Linear(32, 32)   \n",
    "        self.fc3 = nn.Linear(32, 2)\n",
    "\n",
    "    def forward(self, x): # Q Value 리턴 (음수가 될 수 도 있음)\n",
    "        x = F.relu(self.fc1(x))\n",
    "        x = F.relu(self.fc2(x))    \n",
    "        x = self.fc3(x)\n",
    "        return x\n",
    "      \n",
    "    def sample_action(self, obs, epsilon):\n",
    "        out = self.forward(obs)\n",
    "        coin = random.random() # 0 ~ 1 \n",
    "        if coin < epsilon:\n",
    "            return random.randint(0, 1)\n",
    "        else : \n",
    "            return out.argmax().item()\n",
    "            \n",
    "def train(q, q_target, memory, optimizer):\n",
    "    for i in range(10):\n",
    "        s, a, r, s_prime, done_mask = memory.sample(batch_size)\n",
    "        q_out = q(s).reshape(batch_size,2) # input size (32,2) return size (32,2)\n",
    "        q_a = q_out.gather(1, a) # 취한 액션의 큐값만 골라냄 (32,1)\n",
    "        max_q_prime = q_target(s_prime).max(1)[0].unsqueeze(1)\n",
    "        target = r + gamma * max_q_prime * done_mask\n",
    "        loss = F.smooth_l1_loss(q_a, target)\n",
    "        \n",
    "        optimizer.zero_grad()\n",
    "        loss.backward()\n",
    "        optimizer.step()\n",
    "\n",
    "\n",
    "q = Qnet()\n",
    "q_target = Qnet()\n",
    "q_target.load_state_dict(q.state_dict())\n",
    "memory = ReplayBuffer()\n",
    "\n",
    "print_interval = 500\n",
    "score = 1.0  \n",
    "optimizer = optim.Adam(q.parameters(), lr=learning_rate) # q_target 은 업데이트 안 함!\n",
    "\n",
    "stock_env = Stock(df)\n",
    "\n",
    "for n_epi in range(8000):\n",
    "    \n",
    "\n",
    "    epsilon = max(0.01, 0.08 - 0.01*(n_epi/200)) #Linear annealing from 8% to 1%    \n",
    "    stock = stock_env.reset()\n",
    "    done = False\n",
    "\n",
    "    while not done:\n",
    "        a = q.sample_action(torch.from_numpy(stock[0]).float(), epsilon)  \n",
    "        s_prime, r, done, info = stock_env.step(a)      \n",
    "\n",
    "        done_mask = 0.0 if done else 1.0\n",
    "        memory.put((s, a, r*2, s_prime, done_mask))\n",
    "        s = s_prime   \n",
    "        \n",
    "        score *= r\n",
    "\n",
    "        if done:       \n",
    "            break\n",
    "            \n",
    "\n",
    "    if memory.size()>1000:\n",
    "        train(q, q_target, memory, optimizer)\n",
    "\n",
    "    if n_epi%print_interval==0 and n_epi!=0:\n",
    "        q_target.load_state_dict(q.state_dict()) # 타겟 네트워크 업데이트 (20 번 에피소드 마다)\n",
    "        print(\"n_episode :{}, score : {:.3f}, n_buffer : {}, eps : {:.1f}%\".format(n_epi, score, memory.size(), epsilon*100))                \n",
    "        \n",
    "        if (score/print_interval) > 50:\n",
    "            break\n",
    "\n",
    "        score = 1.0"
   ]
  },
  {
   "cell_type": "code",
   "execution_count": null,
   "id": "d4b7b016-5f60-41b3-9b14-245ef9324647",
   "metadata": {},
   "outputs": [],
   "source": [
    "q_target(torch.tensor(np.array([1,1,1,1,1,1])))\n",
    "\n",
    " torch.FloatTensor"
   ]
  },
  {
   "cell_type": "code",
   "execution_count": 307,
   "id": "3fa79dc5-ec83-4f0a-8309-86eb45e74651",
   "metadata": {},
   "outputs": [
    {
     "data": {
      "text/plain": [
       "(20, 7)"
      ]
     },
     "execution_count": 307,
     "metadata": {},
     "output_type": "execute_result"
    }
   ],
   "source": [
    "class Stock:\n",
    "    \n",
    "    def __init__(self, df):\n",
    "        self.actions = [0, 1]\n",
    "        self.count = 0        \n",
    "        self.sample_data = df\n",
    "        self.buy_dt = random.choice(df.index[7:-21]).strftime('%Y-%m-%d') # 매수일\n",
    "        \n",
    "    def reset(self):         \n",
    "        self.state = collect_data(self.buy_dt)\n",
    "        \n",
    "    def step(self, action):\n",
    "        return self.state\n",
    "\n",
    "stock = Stock(df)\n",
    "stock.reset()\n",
    "stock.state.shape"
   ]
  },
  {
   "cell_type": "code",
   "execution_count": 372,
   "id": "7ce426c1-7d8b-4d9b-af27-33d8b9d6cc92",
   "metadata": {},
   "outputs": [
    {
     "data": {
      "text/plain": [
       "0"
      ]
     },
     "execution_count": 372,
     "metadata": {},
     "output_type": "execute_result"
    }
   ],
   "source": [
    "random.randint(0, 2)"
   ]
  },
  {
   "cell_type": "code",
   "execution_count": 392,
   "id": "0638ddba-d203-4de0-aae9-58732bd82dec",
   "metadata": {},
   "outputs": [
    {
     "data": {
      "text/plain": [
       "Qnet(\n",
       "  (fc1): Linear(in_features=6, out_features=32, bias=True)\n",
       "  (fc2): Linear(in_features=32, out_features=32, bias=True)\n",
       "  (fc3): Linear(in_features=32, out_features=2, bias=True)\n",
       ")"
      ]
     },
     "execution_count": 392,
     "metadata": {},
     "output_type": "execute_result"
    }
   ],
   "source": [
    "q"
   ]
  },
  {
   "cell_type": "code",
   "execution_count": null,
   "id": "ec8ae77b-6855-4bae-90f7-3ccca870648b",
   "metadata": {},
   "outputs": [],
   "source": [
    "dir(q_target.parameters)"
   ]
  },
  {
   "cell_type": "code",
   "execution_count": 16,
   "id": "9ad867f9-4baa-4cb0-932b-b8e63300ec77",
   "metadata": {},
   "outputs": [
    {
     "data": {
      "text/plain": [
       "array([ 0.24959025,  2.3447988 , -0.44196096, -3.9855685 ], dtype=float32)"
      ]
     },
     "execution_count": 16,
     "metadata": {},
     "output_type": "execute_result"
    }
   ],
   "source": [
    "s_prime, r, done, _, info  = env.step(1)\n",
    "s_prime"
   ]
  },
  {
   "cell_type": "code",
   "execution_count": 7,
   "id": "628de0a2-7c1c-440e-ae51-2c3e0b4df3c6",
   "metadata": {},
   "outputs": [
    {
     "data": {
      "text/plain": [
       "1"
      ]
     },
     "execution_count": 7,
     "metadata": {},
     "output_type": "execute_result"
    }
   ],
   "source": [
    "q.sample_action(torch.from_numpy(s).float(), epsilon)     \n"
   ]
  },
  {
   "cell_type": "code",
   "execution_count": 15,
   "id": "b38d227c-5fce-49fd-a201-0cc71ba333f1",
   "metadata": {},
   "outputs": [
    {
     "data": {
      "text/plain": [
       "(array([ 0.20656453,  2.1512852 , -0.36978772, -3.6086626 ], dtype=float32),\n",
       " 0.0,\n",
       " True,\n",
       " False,\n",
       " {})"
      ]
     },
     "execution_count": 15,
     "metadata": {},
     "output_type": "execute_result"
    }
   ],
   "source": [
    "env.step(1)"
   ]
  },
  {
   "cell_type": "code",
   "execution_count": 19,
   "id": "baef2d83-9857-458c-b1c0-6adb11d89a0e",
   "metadata": {},
   "outputs": [
    {
     "data": {
      "text/plain": [
       "array([ 0.02918431, -0.03201904, -0.02439259, -0.04370356], dtype=float32)"
      ]
     },
     "execution_count": 19,
     "metadata": {},
     "output_type": "execute_result"
    }
   ],
   "source": [
    "env.reset()[0]"
   ]
  },
  {
   "cell_type": "code",
   "execution_count": 409,
   "id": "9968dbfb-df85-4015-9bdb-0198014ebab2",
   "metadata": {},
   "outputs": [
    {
     "data": {
      "text/plain": [
       "0"
      ]
     },
     "execution_count": 409,
     "metadata": {},
     "output_type": "execute_result"
    }
   ],
   "source": [
    " random.randint(0, 1)"
   ]
  },
  {
   "cell_type": "code",
   "execution_count": 638,
   "id": "f60fd147-41e6-4e94-9314-0c49cc3a568a",
   "metadata": {},
   "outputs": [],
   "source": [
    "import gym\n",
    "import numpy as np\n",
    "import matplotlib.pyplot as plt\n",
    "from gym.envs.registration import register\n",
    "\n",
    "register(\n",
    "    id='FrozenLake-v3',\n",
    "    entry_point = 'gym.envs.toy_text:FrozenLakeEnv',\n",
    "    kwargs={'map_name':'4x4',\n",
    "           'is_slippery':False}\n",
    ")\n",
    "\n"
   ]
  },
  {
   "cell_type": "code",
   "execution_count": 647,
   "id": "466f7527-ec0e-418f-862c-903e190e0378",
   "metadata": {},
   "outputs": [
    {
     "name": "stdout",
     "output_type": "stream",
     "text": [
      "8\n",
      "0.0\n"
     ]
    }
   ],
   "source": [
    "env = gym.make('FrozenLake-v3')\n",
    "env.reset()\n",
    "# action = env.action_space.sample()\n",
    "# print(action)\n",
    "env.step(1)\n",
    "new_state, reward, done, _, _ = env.step(action)\n",
    "print(new_state)\n",
    "print(reward)\n",
    "\n",
    "\n",
    "\n",
    "\n"
   ]
  },
  {
   "cell_type": "code",
   "execution_count": 628,
   "id": "bd480fdf-bad6-420d-9207-e35daf88ead4",
   "metadata": {},
   "outputs": [
    {
     "data": {
      "text/plain": [
       "(0, 0.0, False, False, {'prob': 1.0})"
      ]
     },
     "execution_count": 628,
     "metadata": {},
     "output_type": "execute_result"
    }
   ],
   "source": [
    "env.step(action)"
   ]
  },
  {
   "cell_type": "code",
   "execution_count": 630,
   "id": "c76cdd5a-e08c-49b5-91ea-339e414a3935",
   "metadata": {},
   "outputs": [
    {
     "data": {
      "text/plain": [
       "0.0"
      ]
     },
     "execution_count": 630,
     "metadata": {},
     "output_type": "execute_result"
    }
   ],
   "source": [
    "c = (0, 0.0, False, False, {'prob': 1.0})\n",
    "c[1]"
   ]
  },
  {
   "cell_type": "code",
   "execution_count": 3,
   "id": "dc667a92-9d59-4306-a162-a8bf982a1715",
   "metadata": {},
   "outputs": [
    {
     "name": "stdout",
     "output_type": "stream",
     "text": [
      "2022-09-26 2022-09-26\n"
     ]
    }
   ],
   "source": [
    "import FinanceDataReader as fdr\n",
    "import datetime\n",
    "# today_dt = datetime.datetime.today().strftime('%Y-%m-%d') # 오늘날짜를 'YYYY-MM-DD' 형태로 변경하여 저장\n",
    "today_dt = '2022-09-26'\n",
    "prev_dt = fdr.DataReader('005930', end = today_dt).index[-1].strftime('%Y-%m-%d') # today_dt 의 전 영업일을 찾아 'YYYY-MM-DD' 로 저장\n",
    "print(today_dt, prev_dt)"
   ]
  },
  {
   "cell_type": "code",
   "execution_count": 8,
   "id": "8cf92584-547b-4981-bc19-5b6ed7c57466",
   "metadata": {},
   "outputs": [
    {
     "data": {
      "text/plain": [
       "Timestamp('2022-09-23 00:00:00')"
      ]
     },
     "execution_count": 8,
     "metadata": {},
     "output_type": "execute_result"
    }
   ],
   "source": [
    "fdr.DataReader('005930', end = today_dt).tail(5).index[-2]"
   ]
  },
  {
   "cell_type": "code",
   "execution_count": 11,
   "id": "4c4178cc-44b2-4e11-a13e-3f7f465194dc",
   "metadata": {},
   "outputs": [
    {
     "name": "stdout",
     "output_type": "stream",
     "text": [
      "2022-10-11 2022-10-06\n"
     ]
    }
   ],
   "source": [
    "today_dt ='2022-10-11'\n",
    "prev_dt = fdr.DataReader('005930', end = today_dt).index[-2].strftime('%Y-%m-%d') # today_dt 의 전 영업일을 찾아 'YYYY-MM-DD' 로 저장\n",
    "print(today_dt, prev_dt)"
   ]
  },
  {
   "cell_type": "code",
   "execution_count": 12,
   "id": "9ff19210-5675-4d70-a03c-904ead4aaf87",
   "metadata": {},
   "outputs": [
    {
     "data": {
      "text/html": [
       "<div>\n",
       "<style scoped>\n",
       "    .dataframe tbody tr th:only-of-type {\n",
       "        vertical-align: middle;\n",
       "    }\n",
       "\n",
       "    .dataframe tbody tr th {\n",
       "        vertical-align: top;\n",
       "    }\n",
       "\n",
       "    .dataframe thead th {\n",
       "        text-align: right;\n",
       "    }\n",
       "</style>\n",
       "<table border=\"1\" class=\"dataframe\">\n",
       "  <thead>\n",
       "    <tr style=\"text-align: right;\">\n",
       "      <th></th>\n",
       "      <th>Open</th>\n",
       "      <th>High</th>\n",
       "      <th>Low</th>\n",
       "      <th>Close</th>\n",
       "      <th>Volume</th>\n",
       "      <th>Change</th>\n",
       "    </tr>\n",
       "    <tr>\n",
       "      <th>Date</th>\n",
       "      <th></th>\n",
       "      <th></th>\n",
       "      <th></th>\n",
       "      <th></th>\n",
       "      <th></th>\n",
       "      <th></th>\n",
       "    </tr>\n",
       "  </thead>\n",
       "  <tbody>\n",
       "    <tr>\n",
       "      <th>2022-09-30</th>\n",
       "      <td>52300</td>\n",
       "      <td>53600</td>\n",
       "      <td>51800</td>\n",
       "      <td>53100</td>\n",
       "      <td>22503249</td>\n",
       "      <td>0.009506</td>\n",
       "    </tr>\n",
       "    <tr>\n",
       "      <th>2022-10-04</th>\n",
       "      <td>55300</td>\n",
       "      <td>55400</td>\n",
       "      <td>54500</td>\n",
       "      <td>55200</td>\n",
       "      <td>19148435</td>\n",
       "      <td>0.039548</td>\n",
       "    </tr>\n",
       "    <tr>\n",
       "      <th>2022-10-05</th>\n",
       "      <td>56900</td>\n",
       "      <td>57200</td>\n",
       "      <td>55400</td>\n",
       "      <td>56000</td>\n",
       "      <td>22458970</td>\n",
       "      <td>0.014493</td>\n",
       "    </tr>\n",
       "    <tr>\n",
       "      <th>2022-10-06</th>\n",
       "      <td>56700</td>\n",
       "      <td>57300</td>\n",
       "      <td>56300</td>\n",
       "      <td>56300</td>\n",
       "      <td>14944446</td>\n",
       "      <td>0.005357</td>\n",
       "    </tr>\n",
       "    <tr>\n",
       "      <th>2022-10-07</th>\n",
       "      <td>55900</td>\n",
       "      <td>56900</td>\n",
       "      <td>55200</td>\n",
       "      <td>56200</td>\n",
       "      <td>15907472</td>\n",
       "      <td>-0.001776</td>\n",
       "    </tr>\n",
       "  </tbody>\n",
       "</table>\n",
       "</div>"
      ],
      "text/plain": [
       "             Open   High    Low  Close    Volume    Change\n",
       "Date                                                      \n",
       "2022-09-30  52300  53600  51800  53100  22503249  0.009506\n",
       "2022-10-04  55300  55400  54500  55200  19148435  0.039548\n",
       "2022-10-05  56900  57200  55400  56000  22458970  0.014493\n",
       "2022-10-06  56700  57300  56300  56300  14944446  0.005357\n",
       "2022-10-07  55900  56900  55200  56200  15907472 -0.001776"
      ]
     },
     "execution_count": 12,
     "metadata": {},
     "output_type": "execute_result"
    }
   ],
   "source": [
    " fdr.DataReader('005930', end = today_dt).tail(5)"
   ]
  },
  {
   "cell_type": "code",
   "execution_count": null,
   "id": "4110dc68-5bf7-4eb6-b770-9a4da5f08acc",
   "metadata": {},
   "outputs": [],
   "source": []
  }
 ],
 "metadata": {
  "kernelspec": {
   "display_name": "Python 3 (ipykernel)",
   "language": "python",
   "name": "python3"
  },
  "language_info": {
   "codemirror_mode": {
    "name": "ipython",
    "version": 3
   },
   "file_extension": ".py",
   "mimetype": "text/x-python",
   "name": "python",
   "nbconvert_exporter": "python",
   "pygments_lexer": "ipython3",
   "version": "3.9.7"
  }
 },
 "nbformat": 4,
 "nbformat_minor": 5
}