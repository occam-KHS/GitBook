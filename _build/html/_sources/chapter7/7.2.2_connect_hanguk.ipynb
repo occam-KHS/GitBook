{
 "cells": [
  {
   "cell_type": "markdown",
   "id": "36123783",
   "metadata": {},
   "source": [
    "## 서비스 연결"
   ]
  },
  {
   "cell_type": "markdown",
   "id": "962c62cb-2fa8-4019-a73d-8b1db0e0abe1",
   "metadata": {},
   "source": [
    "API 요청을 위해 \"requests\" 와 \"json\" 패키지가 필요합니다. \"requests\" 패키지는 HTTP 요청을 보낼 때, \"json\" 은 수신 받은 객체를 JSON 데이터로 만들어서 쓰기 위해 활용되는 패키지입니다. JSON 데이터는 pandas 데이터프레임으로 변환하기 쉬운 이점도 있습니다."
   ]
  },
  {
   "cell_type": "code",
   "execution_count": 1,
   "id": "6f29064d-7ff0-4a37-8851-24ec6617356d",
   "metadata": {},
   "outputs": [],
   "source": [
    "import requests \n",
    "import json"
   ]
  },
  {
   "cell_type": "markdown",
   "id": "54398711-3fe4-4a87-a7a7-951f88b003e0",
   "metadata": {},
   "source": [
    "requests는 크게 GET과 POST 방식이 있습니다. GET 방식은 현재가 혹은 주식 잔고 조회 같은 요청에서 쓰이고, POST 방식은 주로 주문/정정/취소 요청에서 쓰입니다. 아래 코드 셀은 GET 방식의 예제입니다. GET 방식의 주요 구성 요소는 URL, headers, 그리고 params입니다. 먼저 URL은 실전 또는 모의 투자에서 조회하고 싶은 요청의 경로 정보를 담고 있습니다. 다음으로 headers는 수신 데이터의 형태 및 요청자를 식별할 수 있는 인증 정보를 담고 있습니다. 마지막으로 params는 조회하고자 하는 시장(주식, ETF, ETN) 과 종목 코드 정보를 담고 있습니다. 각 구성 요소에서 어떤 구분자를 입력해야 하는지는 KIS Developers의 API 문서에 자세히 나와 있습니다. API 문서의 활용 방법은 주요 사용 함수를 정리하는 절에서 함께 들여다볼 계획입니다."
   ]
  },
  {
   "cell_type": "code",
   "execution_count": null,
   "id": "01ef88d6-704f-4421-b862-19a6467dac06",
   "metadata": {},
   "outputs": [],
   "source": [
    "\"\"\"주식 종목 현재가 조회\"\"\"\n",
    "\n",
    "# URL 설정\n",
    "URL_BASE = \"https://openapivts.koreainvestment.com:29443\" # 모의 투자\n",
    "PATH = \"uapi/domestic-stock/v1/quotations/inquire-price\" # 현재가 조회를 위한 URL 경로\n",
    "URL = f\"{URL_BASE}/{PATH}\"\n",
    "code = \"005930\" # 삼성전자 종목 코드\n",
    "\n",
    "# headers 설정\n",
    "headers = {\n",
    "    \"Content-Type\":\"application/json\",\n",
    "    \"authorization\": f\"Bearer {ACCESS_TOKEN}\", # 보안인증키\n",
    "    \"appKey\":APP_KEY, # API 신청으로 발금 받은 Key\n",
    "    \"appSecret\":APP_SECRET, # API 신청으로 발금 받은 Secret\n",
    "    \"tr_id\":\"FHKST01010100\" # 현재가 조회를 위한 거래ID \n",
    "}\n",
    "\n",
    "# params 설정\n",
    "params = {\n",
    "    \"fid_cond_mrkt_div_code\":\"J\", # J: 주식\n",
    "    \"fid_input_iscd\":code, # 조회 하고 싶은 주식 종목의 코드 ex) 삼성전자: 005930\n",
    "}\n",
    "\n",
    "# GET request 함수 호출\n",
    "res = requests.get(URL, headers=headers, params=params)\n",
    "\n",
    "print(int(res.json()['output']['stck_prpr']))"
   ]
  },
  {
   "cell_type": "markdown",
   "id": "f091a138-dc9e-484c-aacc-95283156f86e",
   "metadata": {},
   "source": [
    "GET 방식과 마찬가지로 POST 방식에서도 URL에 주문하고자 하는 경로 값을 설정해 줍니다. 주문 관련 요청이 있기 때문에 headers에는 hashkey(암호화) 값을 추가하여 보안 수준을 높여 줍니다. 또한, 매수/매도를 구분하는 거래ID 값을 headers에 추가해 줍니다. 마지막으로 data에 주문 요청을 처리할 수 있는 계좌번호, 매수/매도 수량 그리고 주문가격 정보들을 담아 줍니다."
   ]
  },
  {
   "cell_type": "code",
   "execution_count": null,
   "id": "7d8507af-13bb-40cb-bcde-5dad9b626ecd",
   "metadata": {},
   "outputs": [],
   "source": [
    "\"\"\"주식 시장가 매수\"\"\"\n",
    "\n",
    "# URL 설정\n",
    "URL_BASE = \"https://openapivts.koreainvestment.com:29443\" # 모의 투자\n",
    "PATH = \"uapi/domestic-stock/v1/trading/order-cash\" # cash 주문\n",
    "URL = f\"{URL_BASE}/{PATH}\"\n",
    "code = \"005930\" # 삼성전자 종목 코드\n",
    "\n",
    "# data 설정\n",
    "data = {\n",
    "    \"CANO\": CANO, # 계좌번호 앞자리\n",
    "    \"ACNT_PRDT_CD\": ACNT_PRDT_CD,  # 계좌번호 뒷자리\n",
    "    \"PDNO\": code,\n",
    "    \"ORD_DVSN\": \"01\", # 시장가\n",
    "    \"ORD_QTY\": str(int(qty)), # 매수 주문 수량\n",
    "    \"ORD_UNPR\": \"0\", # 시장가로 매수 시, ORD_UNPR 는 0 (지정가로 매수 시, ORD_UNPR 는 원하는 지정가로 명시) \n",
    "}\n",
    "\n",
    "# headers 설정\n",
    "headers = {\"Content-Type\":\"application/json\",\n",
    "    \"authorization\":f\"Bearer {ACCESS_TOKEN}\", # 보안인증키\n",
    "    \"appKey\":APP_KEY,  # API 신청으로 발금 받은 Key\n",
    "    \"appSecret\":APP_SECRET, # API 신청으로 발금 받은 Secret\n",
    "    \"tr_id\":\"VTTC0802U\", # 매수 주문을 위한 거래ID\n",
    "    \"custtype\":\"P\", # P: 개인 \n",
    "    \"hashkey\" : hashkey(data) # <<<<<<<<<\n",
    "}\n",
    "\n",
    "# POST request 함수 호출\n",
    "res = requests.post(URL, headers=headers, data=json.dumps(data))"
   ]
  },
  {
   "cell_type": "markdown",
   "id": "9d0858d5-c0be-4819-990f-97b3d6b50e8d",
   "metadata": {},
   "source": [
    "한편, 해쉬키 함수는 다음과 같이 정의 되어 있습니다."
   ]
  },
  {
   "cell_type": "code",
   "execution_count": null,
   "id": "2f7b336d-1983-420c-8bd3-bfba8f8e1531",
   "metadata": {},
   "outputs": [],
   "source": [
    "def hashkey(datas):\n",
    "    \"\"\"암호화\"\"\"\n",
    "    PATH = \"uapi/hashkey\"\n",
    "    URL = f\"{URL_BASE}/{PATH}\"\n",
    "    headers = {\n",
    "    'content-Type' : 'application/json',\n",
    "    'appKey' : APP_KEY,\n",
    "    'appSecret' : APP_SECRET,\n",
    "    }\n",
    "    res = requests.post(URL, headers=headers, data=json.dumps(datas))\n",
    "    hashkey = res.json()[\"HASH\"]\n",
    "    return hashkey"
   ]
  },
  {
   "cell_type": "markdown",
   "id": "e3ca4323-9854-4fcb-848d-24b00843126c",
   "metadata": {},
   "source": [
    "위 예제 코드의 GET 과 POST 방식 모두 headers에서 ACCESS_TOKEN 을 필요로 하는데, get_access_token() 함수에서 APP_KEY 와 APP_SECRET를 이용해서 발급받을 수 있습니다. "
   ]
  },
  {
   "cell_type": "code",
   "execution_count": null,
   "id": "5cc1ba45-c447-4c0d-98ce-b4ab27629bbb",
   "metadata": {},
   "outputs": [],
   "source": [
    "def get_access_token():\n",
    "    \"\"\"토큰 발급\"\"\"\n",
    "    headers = {\"content-type\":\"application/json\"}\n",
    "    body = {\"grant_type\":\"client_credentials\",\n",
    "    \"appkey\":APP_KEY,\n",
    "    \"appsecret\":APP_SECRET}\n",
    "    PATH = \"oauth2/tokenP\"\n",
    "    URL = f\"{URL_BASE}/{PATH}\"\n",
    "    res = requests.post(URL, headers=headers, data=json.dumps(body))\n",
    "    ACCESS_TOKEN = res.json()[\"access_token\"]\n",
    "    return ACCESS_TOKEN"
   ]
  },
  {
   "cell_type": "markdown",
   "id": "1cca3837-63be-4449-8ca4-ec360a02d801",
   "metadata": {},
   "source": [
    "끝으로 headers와 data 설정에서 반복적으로 사용되는 개인 정보들은 config.yaml 파일에 일괄적으로 저장해 두면 더 간편하게 개인정보를 관리할 수 있습니다."
   ]
  },
  {
   "cell_type": "code",
   "execution_count": null,
   "id": "c88db0a8-e42e-4d36-835d-98ff40b7f8e4",
   "metadata": {},
   "outputs": [],
   "source": [
    "\"\"\"config.yaml 파일 생성\"\"\"\n",
    "\n",
    "#홈페이지에서 API서비스 신청시 받은 Appkey, Appsecret 값 설정\n",
    "APP_KEY: \"xxxxxxxxxxxxxxxxxxxxxxx\"\n",
    "APP_SECRET: \"xxxxxxxxxxxxxxxxxxxxxxxxxxxxxxxxxxxxxxxxxxxxxxxxxxxx\"\n",
    "\n",
    "#계좌번호 앞 8자리\n",
    "CANO: \"xxxxxxxx\"\n",
    "#계좌번호 뒤 2자리\n",
    "ACNT_PRDT_CD: \"01\"\n",
    "\n",
    "#실전투자\n",
    "# URL_BASE: \"https://openapi.koreainvestment.com:9443\"\n",
    "#모의투자\n",
    "URL_BASE: \"https://openapivts.koreainvestment.com:29443\"\n",
    "\n",
    "#디스코드 웹훅 URL\n",
    "DISCORD_WEBHOOK_URL: \"xxxxxxxxxxxxxxxxxxxxxxxxxxxxxxxxxxxxxxxxxxxxxxxxxxxxxxxxxxx\""
   ]
  }
 ],
 "metadata": {
  "kernelspec": {
   "display_name": "Python 3 (ipykernel)",
   "language": "python",
   "name": "python3"
  },
  "language_info": {
   "codemirror_mode": {
    "name": "ipython",
    "version": 3
   },
   "file_extension": ".py",
   "mimetype": "text/x-python",
   "name": "python",
   "nbconvert_exporter": "python",
   "pygments_lexer": "ipython3",
   "version": "3.9.7"
  }
 },
 "nbformat": 4,
 "nbformat_minor": 5
}
