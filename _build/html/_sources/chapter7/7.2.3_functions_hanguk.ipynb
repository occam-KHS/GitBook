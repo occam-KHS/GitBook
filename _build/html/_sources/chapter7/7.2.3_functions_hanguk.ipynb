{
 "cells": [
  {
   "cell_type": "markdown",
   "id": "25755032-b12d-4601-a969-e6d79dcd0902",
   "metadata": {},
   "source": [
    "# 주요 함수 정의"
   ]
  },
  {
   "cell_type": "markdown",
   "id": "36123783",
   "metadata": {},
   "source": [
    "## 현재가 조회"
   ]
  },
  {
   "cell_type": "markdown",
   "id": "054bf56a-f8a1-4912-9ab7-fbcfc86b6821",
   "metadata": {},
   "source": [
    "원하는 시장가에 매수 주문을 넣기 위해서 해당 종목의 현재가를 조회해야 합니다. 현재가 조회 방법을 알아보기 위해서 KIS Developers 홈페이지 > API 문서 > 국내주식시세 > 주식현재가 시세(https://apiportal.koreainvestment.com/apiservice/apiservice-domestic-stock-quotations#L_07802512-4f49-4486-91b4-1050b6f5dc9d) 페이지에 접속하겠습니다."
   ]
  },
  {
   "cell_type": "markdown",
   "id": "159b3cd4-a537-4f81-8366-db0e2d0f6b4e",
   "metadata": {},
   "source": [
    "![GET_IMAGE](images/get_current_price_1.png)"
   ]
  },
  {
   "cell_type": "markdown",
   "id": "4f97f977-8d09-422a-9697-b1c42d89c52e",
   "metadata": {},
   "source": [
    "기본정보에서 주식현재가 시세 조회가 GET 방식임을 확인할 수 있고, LAYOUT 을 통해 Request 함수의 headers 및 params의 인자 값들을 확인할 수 있습니다."
   ]
  },
  {
   "cell_type": "markdown",
   "id": "0aff7035-8af6-4b84-bb60-2d4e7347a8d8",
   "metadata": {},
   "source": [
    "![GET_IMAGE](images/get_current_price_2.png)"
   ]
  },
  {
   "cell_type": "markdown",
   "id": "acb27f45-93cb-459d-9106-91df556c65cf",
   "metadata": {},
   "source": [
    "또한, 수신 받을 Response 객체의 형태도 미리 확인하고 원하는 데이터를 어떻게 추출할지도 알 수 있습니다."
   ]
  },
  {
   "cell_type": "markdown",
   "id": "f04e2c64-e0b8-4ee2-9023-c0158702f762",
   "metadata": {},
   "source": [
    "![GET_IMAGE](images/get_current_price_3.png)"
   ]
  },
  {
   "cell_type": "markdown",
   "id": "723f470a-66fd-486c-b244-bc5b9d825b46",
   "metadata": {},
   "source": [
    "Request 와 Response 문서를 참고하여 특정 종목의 현재가를 조회하는 함수는 아래와 같습니다. "
   ]
  },
  {
   "cell_type": "code",
   "execution_count": null,
   "id": "b3a68150-8975-481d-a606-cc640fcd6695",
   "metadata": {},
   "outputs": [],
   "source": [
    "def get_current_price(code=\"005930\"):\n",
    "    \"\"\"현재가 조회\"\"\"\n",
    "    PATH = \"uapi/domestic-stock/v1/quotations/inquire-price\"\n",
    "    URL = f\"{URL_BASE}/{PAH}\"\n",
    "    headers = {\"Content-Type\":\"application/json\", \n",
    "            \"authorization\": f\"Bearer {ACCESS_TOKEN}\", \n",
    "            \"appKey\":APP_KEY,\n",
    "            \"appSecret\":APP_SECRET,\n",
    "            \"tr_id\":\"FHKST01010100\" \n",
    "    }\n",
    "    params = {\n",
    "    \"fid_cond_mrkt_div_code\":\"J\", \n",
    "    \"fid_input_iscd\":code, \n",
    "    }\n",
    "    res = requests.get(URL, headers=headers, params=params)\n",
    "    return int(res.json()['output']['stck_prpr']) "
   ]
  },
  {
   "cell_type": "markdown",
   "id": "739de44c-f431-4110-927a-185f841a252f",
   "metadata": {},
   "source": [
    "## 잔고 조회"
   ]
  },
  {
   "cell_type": "markdown",
   "id": "a0419733-96b1-4726-b966-f1e6fe1621c1",
   "metadata": {},
   "source": [
    "잔고 조회도 마찬가지로 KIS Developers의 API 문서를 참고하겠습니다. KIS Developers 홈페이지 > API 문서 > 국내주식주문 > 주식잔고조회(https://apiportal.koreainvestment.com/apiservice/apiservice-domestic-stock#L_66c61080-674f-4c91-a0cc-db5e64e9a5e6) 페이지에 접속하겠습니다."
   ]
  },
  {
   "cell_type": "markdown",
   "id": "68a2280d-6fdd-4ad5-8912-867aaba7c5ed",
   "metadata": {},
   "source": [
    "![GET_IMAGE](images/get_stock_balance_1.png)"
   ]
  },
  {
   "cell_type": "markdown",
   "id": "a30c40d4-5ba9-4e73-8056-ac00d01168ad",
   "metadata": {},
   "source": [
    "앞에서의 현재가 조회와 마찬가지로 LAYOUT의 Request 문서를 참고하여 headers 및 params의 인자 값들을 확인할 수 있습니다. Response 문서에서 수신 데이터 형태를 미리 확인하고 원하는 데이터를 추출하는 코드를 작성합니다."
   ]
  },
  {
   "cell_type": "code",
   "execution_count": null,
   "id": "1a54fb20-5d10-4527-90c8-92583dbe04ed",
   "metadata": {},
   "outputs": [],
   "source": [
    "def get_stock_balance():\n",
    "    \"\"\"주식 잔고조회\"\"\"\n",
    "    PATH = \"uapi/domestic-stock/v1/trading/inquire-balance\"\n",
    "    URL = f\"{URL_BASE}/{PATH}\"\n",
    "    headers = {\"Content-Type\":\"application/json\",\n",
    "        \"authorization\":f\"Bearer {ACCESS_TOKEN}\",\n",
    "        \"appKey\":APP_KEY,\n",
    "        \"appSecret\":APP_SECRET,\n",
    "        \"tr_id\":\"VTTC8434R\",  # 실전 투자 \"TTTC8434R\"\n",
    "        \"custtype\":\"P\",\n",
    "    }\n",
    "    params = {\n",
    "        \"CANO\": CANO,\n",
    "        \"ACNT_PRDT_CD\": ACNT_PRDT_CD,\n",
    "        \"AFHR_FLPR_YN\": \"N\",\n",
    "        \"OFL_YN\": \"\",\n",
    "        \"INQR_DVSN\": \"02\",\n",
    "        \"UNPR_DVSN\": \"01\",\n",
    "        \"FUND_STTL_ICLD_YN\": \"N\",\n",
    "        \"FNCG_AMT_AUTO_RDPT_YN\": \"N\",\n",
    "        \"PRCS_DVSN\": \"01\",\n",
    "        \"CTX_AREA_FK100\": \"\",\n",
    "        \"CTX_AREA_NK100\": \"\"\n",
    "    }\n",
    "    res = requests.get(URL, headers=headers, params=params)\n",
    "    stock_list = res.json()['output1']\n",
    "    evaluation = res.json()['output2']\n",
    "    stock_dict = {}\n",
    "    send_message(f\"====주식 보유잔고====\")\n",
    "    for stock in stock_list:\n",
    "        if int(stock['hldg_qty']) > 0:\n",
    "            stock_dict[stock['pdno']] = [stock['hldg_qty'], stock['evlu_pfls_rt']] # 0: 보유 수량, 1: 평가손익율\n",
    "            send_message(f\"{stock['prdt_name']}({stock['pdno']}): {stock['hldg_qty']}주 {stock['evlu_pfls_rt']}\")\n",
    "            time.sleep(0.1)\n",
    "    send_message(f\"주식 평가 금액: {evaluation[0]['scts_evlu_amt']}원\")\n",
    "    time.sleep(0.1)\n",
    "    send_message(f\"평가 손익 합계: {evaluation[0]['evlu_pfls_smtl_amt']}원\")\n",
    "    time.sleep(0.1)\n",
    "    send_message(f\"총 평가 금액: {evaluation[0]['tot_evlu_amt']}원\")\n",
    "    time.sleep(0.1)\n",
    "    send_message(f\"=================\")\n",
    "    return stock_dict\n"
   ]
  },
  {
   "cell_type": "markdown",
   "id": "2f5c7136-cd14-4d20-b04b-285155d48660",
   "metadata": {},
   "source": [
    "## 잔여 현금 조회"
   ]
  },
  {
   "cell_type": "markdown",
   "id": "94b16c0e-d9c6-48e2-9a9a-90824fe2583e",
   "metadata": {},
   "source": [
    "잔여 현금 조회도 마찬가지로 KIS Developers의 API 문서를 참고하겠습니다. KIS Developers 홈페이지 > API 문서 > 국내주식주문 > 매수가능조회(https://apiportal.koreainvestment.com/apiservice/apiservice-domestic-stock#L_aade4c72-5fb7-418a-9ff2-254b4d5f0ceb) 페이지에 접속하겠습니다."
   ]
  },
  {
   "cell_type": "markdown",
   "id": "c65184dc-5ac1-4a66-ba1b-26b2ab6e1e15",
   "metadata": {},
   "source": [
    "![GET_IMAGE](images/get_balance_1.png)"
   ]
  },
  {
   "cell_type": "markdown",
   "id": "e241e349-e2b4-4082-874c-b8ef662c1a68",
   "metadata": {},
   "source": [
    "LAYOUT의 Request 문서를 참고하여 headers 및 params의 인자 값들을 확인할 수 있습니다. Response 문서에서 수신 데이터 형태를 미리 확인하고 원하는 데이터를 추출하는 코드를 작성합니다."
   ]
  },
  {
   "cell_type": "code",
   "execution_count": null,
   "id": "31819662-6cf4-4c50-99a5-bf821ba16baa",
   "metadata": {},
   "outputs": [],
   "source": [
    "def get_balance():\n",
    "    \"\"\"현금 잔고조회\"\"\"\n",
    "    PATH = \"uapi/domestic-stock/v1/trading/inquire-psbl-order\" # <<<<<<<<<\n",
    "    URL = f\"{URL_BASE}/{PATH}\"\n",
    "    headers = {\"Content-Type\":\"application/json\", # <<<<<<<<<\n",
    "        \"authorization\":f\"Bearer {ACCESS_TOKEN}\",\n",
    "        \"appKey\":APP_KEY,\n",
    "        \"appSecret\":APP_SECRET,\n",
    "        \"tr_id\":\"TTTC8908R\", # <<<<<<<<<\n",
    "        \"custtype\":\"P\", # <<<<<<<<<\n",
    "    }\n",
    "    params = {\n",
    "        \"CANO\": CANO,\n",
    "        \"ACNT_PRDT_CD\": ACNT_PRDT_CD,\n",
    "        \"PDNO\": \"005930\", # <<<<<<<<<\n",
    "        \"ORD_UNPR\": \"65500\", # <<<<<<<<<\n",
    "        \"ORD_DVSN\": \"01\", # <<<<<<<<<\n",
    "        \"CMA_EVLU_AMT_ICLD_YN\": \"Y\", # <<<<<<<<<\n",
    "        \"OVRS_ICLD_YN\": \"Y\" # <<<<<<<<<\n",
    "    }\n",
    "    res = requests.get(URL, headers=headers, params=params)\n",
    "    cash = res.json()['output']['ord_psbl_cash'] # <<<<<<<<<\n",
    "    send_message(f\"주문 가능 현금 잔고: {cash}원\") \n",
    "    return int(cash)"
   ]
  },
  {
   "cell_type": "markdown",
   "id": "f18d3414-fdcd-40a9-914f-15eebc9eb914",
   "metadata": {},
   "source": [
    "## 5일 이상 보유 종목 조회"
   ]
  },
  {
   "cell_type": "markdown",
   "id": "c2f34bef-08f7-492c-8fa8-0e5fac645360",
   "metadata": {},
   "source": [
    "5일 이상 보유 중인 종목을 조회하기 위해서는 주식일별주문체결 정보를 조회 해야 합니다. KIS Developers 홈페이지 > API 문서 > 국내주식주문 > 주식일별주문체결조회(https://apiportal.koreainvestment.com/apiservice/apiservice-domestic-stock#L_bc51f9f7-146f-4971-a5ae-ebd574acec12) 페이지에 접속하겠습니다."
   ]
  },
  {
   "cell_type": "markdown",
   "id": "d8aea843-52d1-482f-bf6d-65164fc5fc8a",
   "metadata": {},
   "source": [
    "![GET_IMAGE](images/stock_over_5d.png)"
   ]
  },
  {
   "cell_type": "markdown",
   "id": "be2ea42d-db86-4b62-8b7b-c03b1d4220e3",
   "metadata": {},
   "source": [
    "LAYOUT의 Request 문서를 참고하여 headers 및 params의 인자 값들을 확인할 수 있습니다. Response 문서에서 수신 데이터 형태를 미리 확인하고 원하는 데이터를 추출하는 코드를 작성합니다."
   ]
  },
  {
   "cell_type": "code",
   "execution_count": null,
   "id": "8d948935-992f-4657-82fa-a3d2a8920f50",
   "metadata": {},
   "outputs": [],
   "source": [
    "def get_stock_5d_before():\n",
    "    def get_stock_before(date):\n",
    "        PATH = \"uapi/domestic-stock/v1/trading/inquire-daily-ccld\"\n",
    "        URL = f\"{URL_BASE}/{PATH}\"\n",
    "        headers = {\"Content-Type\":\"application/json\",\n",
    "            \"authorization\":f\"Bearer {ACCESS_TOKEN}\",\n",
    "            \"appKey\":APP_KEY,\n",
    "            \"appSecret\":APP_SECRET,\n",
    "            \"tr_id\":\"VTTC8001R\",  # 실전 투자 \"TTTC8001R\"\n",
    "            \"custtype\":\"P\",\n",
    "        }\n",
    "        params = {\n",
    "            \"CANO\": CANO,\n",
    "            \"ACNT_PRDT_CD\": ACNT_PRDT_CD,\n",
    "            \"INQR_STRT_DT\": date,\n",
    "            \"INQR_END_DT\": date,\n",
    "            \"SLL_BUY_DVSN_CD\": \"02\", # 00:전체, 01:매도, 02:매수\n",
    "            \"INQR_DVSN\": \"01\", # 00: 역순\n",
    "            \"PDNO\": \"\", \n",
    "            \"CCLD_DVSN\": \"01\",\n",
    "            \"ORD_GNO_BRNO\":\"\",\n",
    "            \"ODNO\":\"\",\n",
    "            \"INQR_DVSN_3\": \"01\",\n",
    "            \"INQR_DVSN_1\": \"\",\n",
    "            \"CTX_AREA_FK100\": \"\",\n",
    "            \"CTX_AREA_NK100\": \"\"\n",
    "        }\n",
    "        res = requests.get(URL, headers=headers, params=params)\n",
    "        stock_dict = res.json()['output1']\n",
    "        return stock_dict\n",
    "    prev = 7\n",
    "    while prev < 15:\n",
    "        t_previous_5d = datetime.datetime.now().date() - datetime.timedelta(days=prev)\n",
    "        t_previous_5d = t_previous_5d.strftime(\"%Y%m%d\")\n",
    "        bought_previous_5d_dict = get_stock_before(t_previous_5d)\n",
    "        if len(bought_previous_5d_dict) > 0:\n",
    "            break\n",
    "        else:\n",
    "            prev += 1\n",
    "    sell_list_5d_over = []\n",
    "    for stock in bought_previous_5d_dict:\n",
    "        sell_list_5d_over.append(stock['pdno'])\n",
    "    sell_list_5d_over = list(set(sell_list_5d_over))\n",
    "    return sell_list_5d_over"
   ]
  },
  {
   "cell_type": "markdown",
   "id": "6a7e9fad-8cd9-4eac-a422-a5b5077677af",
   "metadata": {},
   "source": [
    "## 매수"
   ]
  },
  {
   "cell_type": "markdown",
   "id": "3d2089e6-bcd5-44c5-98c5-c3c826c173d9",
   "metadata": {},
   "source": [
    "매수 주문도 마찬가지로 KIS Developers의 API 문서를 참고하겠습니다. KIS Developers 홈페이지 > API 문서 >  국내주식주문 > 주식주문(현금) (https://apiportal.koreainvestment.com/apiservice/apiservice-domestic-stock#L_aade4c72-5fb7-418a-9ff2-254b4d5f0ceb) 페이지에 접속하겠습니다."
   ]
  },
  {
   "cell_type": "markdown",
   "id": "80304907-f3e1-4f51-912f-eec38b497516",
   "metadata": {},
   "source": [
    "![GET_IMAGE](images/buy_1.png)"
   ]
  },
  {
   "cell_type": "markdown",
   "id": "fca80f79-c819-4f30-9d27-87469969130b",
   "metadata": {},
   "source": [
    "앞의 조회 요청들과 달리 주문 요청은 기본정보에서 POST 방식임을 확인할 수 있고 보안을 위해서 headers에 hashkey 값을 입력해 줍니다."
   ]
  },
  {
   "cell_type": "code",
   "execution_count": null,
   "id": "1ec4614e-7aff-476a-9371-b58d1f0fd2f8",
   "metadata": {},
   "outputs": [],
   "source": [
    "def buy(code=\"005930\", qty=\"1\"):\n",
    "    \"\"\"주식 시장가 매수\"\"\"\n",
    "    PATH = \"uapi/domestic-stock/v1/trading/order-cash\" # <<<<<<<<<\n",
    "    URL = f\"{URL_BASE}/{PATH}\"\n",
    "    data = {\n",
    "        \"CANO\": CANO,\n",
    "        \"ACNT_PRDT_CD\": ACNT_PRDT_CD,\n",
    "        \"PDNO\": code,\n",
    "        \"ORD_DVSN\": \"01\",\n",
    "        \"ORD_QTY\": str(int(qty)), # <<<<<<<<<\n",
    "        \"ORD_UNPR\": \"0\", # <<<<<<<<<\n",
    "    }\n",
    "    headers = {\"Content-Type\":\"application/json\", # <<<<<<<<<\n",
    "        \"authorization\":f\"Bearer {ACCESS_TOKEN}\",\n",
    "        \"appKey\":APP_KEY,\n",
    "        \"appSecret\":APP_SECRET,\n",
    "        \"tr_id\":\"TTTC0802U\", # <<<<<<<<<\n",
    "        \"custtype\":\"P\", # <<<<<<<<<\n",
    "        \"hashkey\" : hashkey(data) # <<<<<<<<<\n",
    "    }\n",
    "    res = requests.post(URL, headers=headers, data=json.dumps(data))\n",
    "    if res.json()['rt_cd'] == '0': # <<<<<<<<< rt_cd 값이 0 이면 성공 \n",
    "        send_message(f\"[매수 성공]{str(res.json())}\")\n",
    "        return True\n",
    "    else:\n",
    "        send_message(f\"[매수 실패]{str(res.json())}\")\n",
    "        return False"
   ]
  },
  {
   "cell_type": "markdown",
   "id": "03c93a10-5054-4e48-a000-61bca2b87b38",
   "metadata": {},
   "source": [
    "## 매도"
   ]
  },
  {
   "cell_type": "markdown",
   "id": "ee3e6a54-9b9a-4a62-904c-082a7c0e3e9d",
   "metadata": {},
   "source": [
    "매도 주문은 매수 주문 코드와 거의 똑같습니다. 다만, 거래ID 가 다릅니다.\n",
    "\n",
    "| 거래 ID | 정의 |\n",
    "| :----- | :----- |\n",
    "| TTTC0802U | 매수 주문 |\n",
    "| TTTC0801U | 매도 주문 |"
   ]
  },
  {
   "cell_type": "markdown",
   "id": "01611ec7-f2ca-410e-8aab-a586e555fa52",
   "metadata": {},
   "source": [
    "간단하게 headers 에서 거래 ID 만 바꿔 주겠습니다."
   ]
  },
  {
   "cell_type": "code",
   "execution_count": null,
   "id": "f8c08504-efc2-4875-a9d9-38902c7df6e9",
   "metadata": {},
   "outputs": [],
   "source": [
    "def sell(code=\"005930\", qty=\"1\"):\n",
    "    \"\"\"주식 시장가 매도\"\"\"\n",
    "    PATH = \"uapi/domestic-stock/v1/trading/order-cash\"\n",
    "    URL = f\"{URL_BASE}/{PATH}\"\n",
    "    data = {\n",
    "        \"CANO\": CANO,\n",
    "        \"ACNT_PRDT_CD\": ACNT_PRDT_CD,\n",
    "        \"PDNO\": code,\n",
    "        \"ORD_DVSN\": \"01\",\n",
    "        \"ORD_QTY\": qty,\n",
    "        \"ORD_UNPR\": \"0\",\n",
    "    }\n",
    "    headers = {\"Content-Type\":\"application/json\",\n",
    "        \"authorization\":f\"Bearer {ACCESS_TOKEN}\",\n",
    "        \"appKey\":APP_KEY,\n",
    "        \"appSecret\":APP_SECRET,\n",
    "        \"tr_id\":\"TTTC0801U\", # <<<<<<<<<\n",
    "        \"custtype\":\"P\",\n",
    "        \"hashkey\" : hashkey(data)\n",
    "    }\n",
    "    res = requests.post(URL, headers=headers, data=json.dumps(data))\n",
    "    if res.json()['rt_cd'] == '0':\n",
    "        send_message(f\"[매도 성공]{str(res.json())}\")\n",
    "        return True\n",
    "    else:\n",
    "        send_message(f\"[매도 실패]{str(res.json())}\")\n",
    "        return False"
   ]
  },
  {
   "cell_type": "markdown",
   "id": "c3ab58bd-2b77-43d0-b250-4e4fb6c16534",
   "metadata": {},
   "source": [
    "KIS Developers의 공식 API 문서를 참고해서 손쉽게 주요 함수들의 정의를 마쳤습니다. 이외에 더 궁금하거나 까닭 없이 에러가 발생하는 부분에 관해서는 KIS Develpers 포럼을 적극적으로 활용해 보시기 바랍니다. FAQ와 Q&A 세션에 이미 많은 질문과 응답들이 달려있습니다. 다음 절부터는 자동매매의 주요 로직과 코드를 중심적으로 설명드리겠습니다."
   ]
  }
 ],
 "metadata": {
  "kernelspec": {
   "display_name": "Python 3 (ipykernel)",
   "language": "python",
   "name": "python3"
  },
  "language_info": {
   "codemirror_mode": {
    "name": "ipython",
    "version": 3
   },
   "file_extension": ".py",
   "mimetype": "text/x-python",
   "name": "python",
   "nbconvert_exporter": "python",
   "pygments_lexer": "ipython3",
   "version": "3.9.7"
  }
 },
 "nbformat": 4,
 "nbformat_minor": 5
}
