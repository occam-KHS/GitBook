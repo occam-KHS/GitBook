{
 "cells": [
  {
   "cell_type": "markdown",
   "id": "1ea37a5e-269f-4f5c-be7e-eff18b561246",
   "metadata": {},
   "source": [
    "### 종목 추천 및 자동매매 패키징\n",
    "\n",
    "'selection.py' 와 'trading.py' 파이썬 파일을 생성하고 두 모듈을 import 합니다. 아래와 같이 'main.py' 에 최근 영업일 입력한 후, 프로그램을 실행시킵니다. 프로그램이 추천종목을 받아, 자동매매를 시작하는 지 우선적으로 테스트 해 봅니다."
   ]
  },
  {
   "cell_type": "markdown",
   "id": "5000f8f2-739c-4e9a-b79d-71ba4eab0825",
   "metadata": {},
   "source": [
    "![GET_IMAGE](images/main_py.PNG)"
   ]
  },
  {
   "cell_type": "markdown",
   "id": "1f162549-9817-4ff6-92e7-792b959263b7",
   "metadata": {},
   "source": [
    "참고로 별도의 가상환경 설정없이 주피터노트북으로 알고리즘을 만들었으므로, 아나콘다 Base 에 라이브러리가 모두 설치되어 있습니다. 아나콘타 base 를 아래와 같이 인터프리터로 설정해서 필요한 라이브러리를 모두 활용할 수 있도록 합니다. "
   ]
  },
  {
   "cell_type": "markdown",
   "id": "7865d84c-8393-475a-a1d3-90ec08ffb532",
   "metadata": {},
   "source": [
    "![GET_IMAGE](images/interpreter.PNG)"
   ]
  },
  {
   "cell_type": "code",
   "execution_count": null,
   "id": "90de479f-d9d6-465d-8f48-d14ba5905060",
   "metadata": {},
   "outputs": [],
   "source": []
  }
 ],
 "metadata": {
  "kernelspec": {
   "display_name": "Python 3 (ipykernel)",
   "language": "python",
   "name": "python3"
  },
  "language_info": {
   "codemirror_mode": {
    "name": "ipython",
    "version": 3
   },
   "file_extension": ".py",
   "mimetype": "text/x-python",
   "name": "python",
   "nbconvert_exporter": "python",
   "pygments_lexer": "ipython3",
   "version": "3.9.7"
  }
 },
 "nbformat": 4,
 "nbformat_minor": 5
}
