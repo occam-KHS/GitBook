{
 "cells": [
  {
   "cell_type": "markdown",
   "id": "f4ae94e4-30f8-49cd-b3d6-090fd3d51eab",
   "metadata": {
    "tags": []
   },
   "source": [
    "### **가설 설정**     \n",
    "  "
   ]
  },
  {
   "cell_type": "markdown",
   "id": "bfcc958f-bc5d-4565-98e1-693c81e3cc7a",
   "metadata": {},
   "source": [
    "유투브및 여러 블로그에서 얻은 정보를 바탕으로 몇 가지 가설을 세웠습니다. 여기서 가설이란 이런 경우 주가가 상승한다하는 가정입니다. 아래는 제가 찾은 정보입니다. 독자분들은 더 좋은 가설을 세우실 수 있을 것이라고 생각합니다. 가설의 깊이가 예측 모델의 성능을 좌우합니다.\n",
    "\n",
    "\n",
    "- 변동성이 크고 거래량이 몰린 종목이 주가가 상승한다.\n",
    "- 5일 이동 평균선이 오늘 종가보다 위에 위치해 있다.\n",
    "- 위 꼬리가 긴 양봉이 자주 발생한다.\n",
    "- 거래량이 종종 크게 터지며 매집의 흔적을 보인다.\n",
    "- 주가지수보다 더 좋은 수익율을 자주 보여준다.\n",
    "- 동종업계의 평균 수익률보다 좋은 수익률을 보여준다.\n",
    "- 개인투자자보다는 투신/사모펀드 등이 매수를 많이 한다.\n",
    "\n",
    "마지막 가설(투자자)의 경우는 증권사 API 등을 활용하여 데이터를 추출을 해야하므로 별도의 공부가 필요합니다. 모델의 입력변수로 활용하지는 않겠습니다. "
   ]
  },
  {
   "cell_type": "markdown",
   "id": "cd8d0acb-a346-4947-bf4c-dc29482a8304",
   "metadata": {},
   "source": [
    "<br> 문제의 정의부터 가설설정까지의 과정을 구조화해서 아래와 같이 도식화해 보았습니다. "
   ]
  },
  {
   "cell_type": "markdown",
   "id": "10b0bf7e-8495-49f3-b819-b59abde2a7ff",
   "metadata": {},
   "source": [
    "<img src=\"../_images/Solving_Process.png\" width=\"700\" height=\"450\"></img>"
   ]
  },
  {
   "cell_type": "markdown",
   "id": "75992e91-eae7-4165-b276-177de6339ee4",
   "metadata": {},
   "source": [
    "<img src=\"../_images/Problem_Definition.png\" width=\"700\" height=\"450\"></img>"
   ]
  },
  {
   "cell_type": "markdown",
   "id": "0077c44d-627f-49f0-bba1-d5dbe79046aa",
   "metadata": {},
   "source": [
    "<img src=\"../_images/Problem_Structure.png\" width=\"700\" height=\"450\"></img>"
   ]
  },
  {
   "cell_type": "markdown",
   "id": "24a78719-cc4d-4b9a-acce-d84d51e1457c",
   "metadata": {},
   "source": [
    "<img src=\"../_images/Hypothesis_Development.png\" width=\"700\" height=\"450\"></img>"
   ]
  },
  {
   "cell_type": "code",
   "execution_count": null,
   "id": "d8a2ea2d-6742-4017-8cf9-f766ec6e35ee",
   "metadata": {},
   "outputs": [],
   "source": []
  }
 ],
 "metadata": {
  "kernelspec": {
   "display_name": "Python 3 (ipykernel)",
   "language": "python",
   "name": "python3"
  },
  "language_info": {
   "codemirror_mode": {
    "name": "ipython",
    "version": 3
   },
   "file_extension": ".py",
   "mimetype": "text/x-python",
   "name": "python",
   "nbconvert_exporter": "python",
   "pygments_lexer": "ipython3",
   "version": "3.9.7"
  }
 },
 "nbformat": 4,
 "nbformat_minor": 5
}
